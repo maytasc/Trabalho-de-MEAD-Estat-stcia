{
  "nbformat": 4,
  "nbformat_minor": 0,
  "metadata": {
    "kernelspec": {
      "display_name": "Python",
      "language": "python",
      "name": "conda-env-python-py"
    },
    "language_info": {
      "codemirror_mode": {
        "name": "ipython",
        "version": 3
      },
      "file_extension": ".py",
      "mimetype": "text/x-python",
      "name": "python",
      "nbconvert_exporter": "python",
      "pygments_lexer": "ipython3",
      "version": "3.6.10"
    },
    "colab": {
      "name": "TRABALHO_FINAL_MEAD_EXERCICIO_2__FINAL_MAYTA_SOARES.ipynb",
      "provenance": [],
      "collapsed_sections": []
    }
  },
  "cells": [
    {
      "cell_type": "markdown",
      "metadata": {
        "id": "MwVOM8_FSnkD",
        "colab_type": "text"
      },
      "source": [
        "#### TRABALHO FINAL MEAD - QUESTÃO 2"
      ]
    },
    {
      "cell_type": "markdown",
      "metadata": {
        "id": "av951Y-QSnkF",
        "colab_type": "text"
      },
      "source": [
        "Nome: MAYTA SOARES CUSTODIO\\\n",
             ]
    },
    {
      "cell_type": "markdown",
      "metadata": {
        "id": "VRO8-HvaSnkG",
        "colab_type": "text"
      },
      "source": [
        "Questão 2\n",
        "\n",
        "Vamos analisar um dataset de resultados de partidas de futebol na Europa. Com o dataset\n",
        "match_results.csv, queremos saber se existe algum impacto significativo de jogar a partida\n",
        "em casa ou não (se o time ganha mais ao jogar em casa). Será necessário formular o teste\n",
        "de hipótese, especificando as hipóteses nula e alternativa, determinar um nível de\n",
        "significância para o problema, executar o teste e chegar em uma conclusão sobre o\n",
        "resultado\\\n",
        "Dica: nessa questão você irá precisar criar duas novas variáveis para começar o teste. O\n",
        "ideal é agrupar os resultados por time e calcular a média de vitórias em casa e a média de\n",
        "vitórias fora de casa e comparar essas médias.\n",
        "A entrega será um arquivo jupyter notebook, com o teste de hipótese implementado e a\n",
        "conclusão descrita."
      ]
    },
    {
      "cell_type": "markdown",
      "metadata": {
        "id": "RBamqqjEhfiW",
        "colab_type": "text"
      },
      "source": [
        "OS PASSOS FORAM TODOS COMENTADOS."
      ]
    },
    {
      "cell_type": "code",
      "metadata": {
        "id": "CPrfNlNdSnkH",
        "colab_type": "code",
        "colab": {}
      },
      "source": [
        "#importando as bibliotecas\n",
        "\n",
        "import pandas as pd\n",
        "import numpy as np\n",
        "import matplotlib.pyplot as plt\n",
        "%matplotlib inline"
      ],
      "execution_count": 1,
      "outputs": []
    },
    {
      "cell_type": "code",
      "metadata": {
        "id": "nMsMHTQBSnkP",
        "colab_type": "code",
        "colab": {
          "base_uri": "https://localhost:8080/",
          "height": 419
        },
        "outputId": "0827c1fe-c704-45fc-ed9f-4da8480b1526"
      },
      "source": [
        "#Carregando os datasets\n",
        "\n",
        "df1 = pd.read_csv('./match_results.csv')\n",
        "df1"
      ],
      "execution_count": 2,
      "outputs": [
        {
          "output_type": "execute_result",
          "data": {
            "text/html": [
              "<div>\n",
              "<style scoped>\n",
              "    .dataframe tbody tr th:only-of-type {\n",
              "        vertical-align: middle;\n",
              "    }\n",
              "\n",
              "    .dataframe tbody tr th {\n",
              "        vertical-align: top;\n",
              "    }\n",
              "\n",
              "    .dataframe thead th {\n",
              "        text-align: right;\n",
              "    }\n",
              "</style>\n",
              "<table border=\"1\" class=\"dataframe\">\n",
              "  <thead>\n",
              "    <tr style=\"text-align: right;\">\n",
              "      <th></th>\n",
              "      <th>id</th>\n",
              "      <th>season</th>\n",
              "      <th>stage</th>\n",
              "      <th>date</th>\n",
              "      <th>home_team_goal</th>\n",
              "      <th>away_team_goal</th>\n",
              "      <th>home_team_name</th>\n",
              "      <th>away_team_name</th>\n",
              "    </tr>\n",
              "  </thead>\n",
              "  <tbody>\n",
              "    <tr>\n",
              "      <th>0</th>\n",
              "      <td>1</td>\n",
              "      <td>2008/2009</td>\n",
              "      <td>1</td>\n",
              "      <td>2008-08-17 00:00:00</td>\n",
              "      <td>1</td>\n",
              "      <td>1</td>\n",
              "      <td>KRC Genk</td>\n",
              "      <td>Beerschot AC</td>\n",
              "    </tr>\n",
              "    <tr>\n",
              "      <th>1</th>\n",
              "      <td>2</td>\n",
              "      <td>2008/2009</td>\n",
              "      <td>1</td>\n",
              "      <td>2008-08-16 00:00:00</td>\n",
              "      <td>0</td>\n",
              "      <td>0</td>\n",
              "      <td>SV Zulte-Waregem</td>\n",
              "      <td>Sporting Lokeren</td>\n",
              "    </tr>\n",
              "    <tr>\n",
              "      <th>2</th>\n",
              "      <td>3</td>\n",
              "      <td>2008/2009</td>\n",
              "      <td>1</td>\n",
              "      <td>2008-08-16 00:00:00</td>\n",
              "      <td>0</td>\n",
              "      <td>3</td>\n",
              "      <td>KSV Cercle Brugge</td>\n",
              "      <td>RSC Anderlecht</td>\n",
              "    </tr>\n",
              "    <tr>\n",
              "      <th>3</th>\n",
              "      <td>4</td>\n",
              "      <td>2008/2009</td>\n",
              "      <td>1</td>\n",
              "      <td>2008-08-17 00:00:00</td>\n",
              "      <td>5</td>\n",
              "      <td>0</td>\n",
              "      <td>KAA Gent</td>\n",
              "      <td>RAEC Mons</td>\n",
              "    </tr>\n",
              "    <tr>\n",
              "      <th>4</th>\n",
              "      <td>5</td>\n",
              "      <td>2008/2009</td>\n",
              "      <td>1</td>\n",
              "      <td>2008-08-16 00:00:00</td>\n",
              "      <td>1</td>\n",
              "      <td>3</td>\n",
              "      <td>FCV Dender EH</td>\n",
              "      <td>Standard de Liège</td>\n",
              "    </tr>\n",
              "    <tr>\n",
              "      <th>...</th>\n",
              "      <td>...</td>\n",
              "      <td>...</td>\n",
              "      <td>...</td>\n",
              "      <td>...</td>\n",
              "      <td>...</td>\n",
              "      <td>...</td>\n",
              "      <td>...</td>\n",
              "      <td>...</td>\n",
              "    </tr>\n",
              "    <tr>\n",
              "      <th>25974</th>\n",
              "      <td>25975</td>\n",
              "      <td>2015/2016</td>\n",
              "      <td>9</td>\n",
              "      <td>2015-09-22 00:00:00</td>\n",
              "      <td>1</td>\n",
              "      <td>0</td>\n",
              "      <td>FC St. Gallen</td>\n",
              "      <td>FC Thun</td>\n",
              "    </tr>\n",
              "    <tr>\n",
              "      <th>25975</th>\n",
              "      <td>25976</td>\n",
              "      <td>2015/2016</td>\n",
              "      <td>9</td>\n",
              "      <td>2015-09-23 00:00:00</td>\n",
              "      <td>1</td>\n",
              "      <td>2</td>\n",
              "      <td>FC Vaduz</td>\n",
              "      <td>FC Luzern</td>\n",
              "    </tr>\n",
              "    <tr>\n",
              "      <th>25976</th>\n",
              "      <td>25977</td>\n",
              "      <td>2015/2016</td>\n",
              "      <td>9</td>\n",
              "      <td>2015-09-23 00:00:00</td>\n",
              "      <td>2</td>\n",
              "      <td>0</td>\n",
              "      <td>Grasshopper Club Zürich</td>\n",
              "      <td>FC Sion</td>\n",
              "    </tr>\n",
              "    <tr>\n",
              "      <th>25977</th>\n",
              "      <td>25978</td>\n",
              "      <td>2015/2016</td>\n",
              "      <td>9</td>\n",
              "      <td>2015-09-22 00:00:00</td>\n",
              "      <td>0</td>\n",
              "      <td>0</td>\n",
              "      <td>Lugano</td>\n",
              "      <td>FC Zürich</td>\n",
              "    </tr>\n",
              "    <tr>\n",
              "      <th>25978</th>\n",
              "      <td>25979</td>\n",
              "      <td>2015/2016</td>\n",
              "      <td>9</td>\n",
              "      <td>2015-09-23 00:00:00</td>\n",
              "      <td>4</td>\n",
              "      <td>3</td>\n",
              "      <td>BSC Young Boys</td>\n",
              "      <td>FC Basel</td>\n",
              "    </tr>\n",
              "  </tbody>\n",
              "</table>\n",
              "<p>25979 rows × 8 columns</p>\n",
              "</div>"
            ],
            "text/plain": [
              "          id     season  ...           home_team_name     away_team_name\n",
              "0          1  2008/2009  ...                 KRC Genk       Beerschot AC\n",
              "1          2  2008/2009  ...         SV Zulte-Waregem   Sporting Lokeren\n",
              "2          3  2008/2009  ...        KSV Cercle Brugge     RSC Anderlecht\n",
              "3          4  2008/2009  ...                 KAA Gent          RAEC Mons\n",
              "4          5  2008/2009  ...            FCV Dender EH  Standard de Liège\n",
              "...      ...        ...  ...                      ...                ...\n",
              "25974  25975  2015/2016  ...            FC St. Gallen            FC Thun\n",
              "25975  25976  2015/2016  ...                 FC Vaduz          FC Luzern\n",
              "25976  25977  2015/2016  ...  Grasshopper Club Zürich            FC Sion\n",
              "25977  25978  2015/2016  ...                   Lugano          FC Zürich\n",
              "25978  25979  2015/2016  ...           BSC Young Boys           FC Basel\n",
              "\n",
              "[25979 rows x 8 columns]"
            ]
          },
          "metadata": {
            "tags": []
          },
          "execution_count": 2
        }
      ]
    },
    {
      "cell_type": "code",
      "metadata": {
        "id": "WKIFQUV5SnkX",
        "colab_type": "code",
        "colab": {
          "base_uri": "https://localhost:8080/",
          "height": 204
        },
        "outputId": "30e2bedf-45ca-45d9-d607-ba0438e1548d"
      },
      "source": [
        "df1.head()"
      ],
      "execution_count": 3,
      "outputs": [
        {
          "output_type": "execute_result",
          "data": {
            "text/html": [
              "<div>\n",
              "<style scoped>\n",
              "    .dataframe tbody tr th:only-of-type {\n",
              "        vertical-align: middle;\n",
              "    }\n",
              "\n",
              "    .dataframe tbody tr th {\n",
              "        vertical-align: top;\n",
              "    }\n",
              "\n",
              "    .dataframe thead th {\n",
              "        text-align: right;\n",
              "    }\n",
              "</style>\n",
              "<table border=\"1\" class=\"dataframe\">\n",
              "  <thead>\n",
              "    <tr style=\"text-align: right;\">\n",
              "      <th></th>\n",
              "      <th>id</th>\n",
              "      <th>season</th>\n",
              "      <th>stage</th>\n",
              "      <th>date</th>\n",
              "      <th>home_team_goal</th>\n",
              "      <th>away_team_goal</th>\n",
              "      <th>home_team_name</th>\n",
              "      <th>away_team_name</th>\n",
              "    </tr>\n",
              "  </thead>\n",
              "  <tbody>\n",
              "    <tr>\n",
              "      <th>0</th>\n",
              "      <td>1</td>\n",
              "      <td>2008/2009</td>\n",
              "      <td>1</td>\n",
              "      <td>2008-08-17 00:00:00</td>\n",
              "      <td>1</td>\n",
              "      <td>1</td>\n",
              "      <td>KRC Genk</td>\n",
              "      <td>Beerschot AC</td>\n",
              "    </tr>\n",
              "    <tr>\n",
              "      <th>1</th>\n",
              "      <td>2</td>\n",
              "      <td>2008/2009</td>\n",
              "      <td>1</td>\n",
              "      <td>2008-08-16 00:00:00</td>\n",
              "      <td>0</td>\n",
              "      <td>0</td>\n",
              "      <td>SV Zulte-Waregem</td>\n",
              "      <td>Sporting Lokeren</td>\n",
              "    </tr>\n",
              "    <tr>\n",
              "      <th>2</th>\n",
              "      <td>3</td>\n",
              "      <td>2008/2009</td>\n",
              "      <td>1</td>\n",
              "      <td>2008-08-16 00:00:00</td>\n",
              "      <td>0</td>\n",
              "      <td>3</td>\n",
              "      <td>KSV Cercle Brugge</td>\n",
              "      <td>RSC Anderlecht</td>\n",
              "    </tr>\n",
              "    <tr>\n",
              "      <th>3</th>\n",
              "      <td>4</td>\n",
              "      <td>2008/2009</td>\n",
              "      <td>1</td>\n",
              "      <td>2008-08-17 00:00:00</td>\n",
              "      <td>5</td>\n",
              "      <td>0</td>\n",
              "      <td>KAA Gent</td>\n",
              "      <td>RAEC Mons</td>\n",
              "    </tr>\n",
              "    <tr>\n",
              "      <th>4</th>\n",
              "      <td>5</td>\n",
              "      <td>2008/2009</td>\n",
              "      <td>1</td>\n",
              "      <td>2008-08-16 00:00:00</td>\n",
              "      <td>1</td>\n",
              "      <td>3</td>\n",
              "      <td>FCV Dender EH</td>\n",
              "      <td>Standard de Liège</td>\n",
              "    </tr>\n",
              "  </tbody>\n",
              "</table>\n",
              "</div>"
            ],
            "text/plain": [
              "   id     season  stage  ... away_team_goal     home_team_name     away_team_name\n",
              "0   1  2008/2009      1  ...              1           KRC Genk       Beerschot AC\n",
              "1   2  2008/2009      1  ...              0   SV Zulte-Waregem   Sporting Lokeren\n",
              "2   3  2008/2009      1  ...              3  KSV Cercle Brugge     RSC Anderlecht\n",
              "3   4  2008/2009      1  ...              0           KAA Gent          RAEC Mons\n",
              "4   5  2008/2009      1  ...              3      FCV Dender EH  Standard de Liège\n",
              "\n",
              "[5 rows x 8 columns]"
            ]
          },
          "metadata": {
            "tags": []
          },
          "execution_count": 3
        }
      ]
    },
    {
      "cell_type": "code",
      "metadata": {
        "id": "t5HCml9HSnke",
        "colab_type": "code",
        "colab": {
          "base_uri": "https://localhost:8080/",
          "height": 204
        },
        "outputId": "b3623d62-32fc-44c5-8997-09bd03eb04db"
      },
      "source": [
        "df1.tail()"
      ],
      "execution_count": 4,
      "outputs": [
        {
          "output_type": "execute_result",
          "data": {
            "text/html": [
              "<div>\n",
              "<style scoped>\n",
              "    .dataframe tbody tr th:only-of-type {\n",
              "        vertical-align: middle;\n",
              "    }\n",
              "\n",
              "    .dataframe tbody tr th {\n",
              "        vertical-align: top;\n",
              "    }\n",
              "\n",
              "    .dataframe thead th {\n",
              "        text-align: right;\n",
              "    }\n",
              "</style>\n",
              "<table border=\"1\" class=\"dataframe\">\n",
              "  <thead>\n",
              "    <tr style=\"text-align: right;\">\n",
              "      <th></th>\n",
              "      <th>id</th>\n",
              "      <th>season</th>\n",
              "      <th>stage</th>\n",
              "      <th>date</th>\n",
              "      <th>home_team_goal</th>\n",
              "      <th>away_team_goal</th>\n",
              "      <th>home_team_name</th>\n",
              "      <th>away_team_name</th>\n",
              "    </tr>\n",
              "  </thead>\n",
              "  <tbody>\n",
              "    <tr>\n",
              "      <th>25974</th>\n",
              "      <td>25975</td>\n",
              "      <td>2015/2016</td>\n",
              "      <td>9</td>\n",
              "      <td>2015-09-22 00:00:00</td>\n",
              "      <td>1</td>\n",
              "      <td>0</td>\n",
              "      <td>FC St. Gallen</td>\n",
              "      <td>FC Thun</td>\n",
              "    </tr>\n",
              "    <tr>\n",
              "      <th>25975</th>\n",
              "      <td>25976</td>\n",
              "      <td>2015/2016</td>\n",
              "      <td>9</td>\n",
              "      <td>2015-09-23 00:00:00</td>\n",
              "      <td>1</td>\n",
              "      <td>2</td>\n",
              "      <td>FC Vaduz</td>\n",
              "      <td>FC Luzern</td>\n",
              "    </tr>\n",
              "    <tr>\n",
              "      <th>25976</th>\n",
              "      <td>25977</td>\n",
              "      <td>2015/2016</td>\n",
              "      <td>9</td>\n",
              "      <td>2015-09-23 00:00:00</td>\n",
              "      <td>2</td>\n",
              "      <td>0</td>\n",
              "      <td>Grasshopper Club Zürich</td>\n",
              "      <td>FC Sion</td>\n",
              "    </tr>\n",
              "    <tr>\n",
              "      <th>25977</th>\n",
              "      <td>25978</td>\n",
              "      <td>2015/2016</td>\n",
              "      <td>9</td>\n",
              "      <td>2015-09-22 00:00:00</td>\n",
              "      <td>0</td>\n",
              "      <td>0</td>\n",
              "      <td>Lugano</td>\n",
              "      <td>FC Zürich</td>\n",
              "    </tr>\n",
              "    <tr>\n",
              "      <th>25978</th>\n",
              "      <td>25979</td>\n",
              "      <td>2015/2016</td>\n",
              "      <td>9</td>\n",
              "      <td>2015-09-23 00:00:00</td>\n",
              "      <td>4</td>\n",
              "      <td>3</td>\n",
              "      <td>BSC Young Boys</td>\n",
              "      <td>FC Basel</td>\n",
              "    </tr>\n",
              "  </tbody>\n",
              "</table>\n",
              "</div>"
            ],
            "text/plain": [
              "          id     season  ...           home_team_name away_team_name\n",
              "25974  25975  2015/2016  ...            FC St. Gallen        FC Thun\n",
              "25975  25976  2015/2016  ...                 FC Vaduz      FC Luzern\n",
              "25976  25977  2015/2016  ...  Grasshopper Club Zürich        FC Sion\n",
              "25977  25978  2015/2016  ...                   Lugano      FC Zürich\n",
              "25978  25979  2015/2016  ...           BSC Young Boys       FC Basel\n",
              "\n",
              "[5 rows x 8 columns]"
            ]
          },
          "metadata": {
            "tags": []
          },
          "execution_count": 4
        }
      ]
    },
    {
      "cell_type": "code",
      "metadata": {
        "id": "-bVEi3O2gR88",
        "colab_type": "code",
        "colab": {
          "base_uri": "https://localhost:8080/",
          "height": 153
        },
        "outputId": "55796950-08a5-40aa-d5da-db614ee25ce5"
      },
      "source": [
        "#Acessando todas os possíveis atributos do dataframe:\n",
        "\n",
        "df1_attr = [attr for attr in df1.columns]\n",
        "for attr in df1_attr:\n",
        "    print(attr)"
      ],
      "execution_count": 5,
      "outputs": [
        {
          "output_type": "stream",
          "text": [
            "id\n",
            "season\n",
            "stage\n",
            "date\n",
            "home_team_goal\n",
            "away_team_goal\n",
            "home_team_name\n",
            "away_team_name\n"
          ],
          "name": "stdout"
        }
      ]
    },
    {
      "cell_type": "code",
      "metadata": {
        "id": "i9rpdj2_b-hF",
        "colab_type": "code",
        "colab": {
          "base_uri": "https://localhost:8080/",
          "height": 255
        },
        "outputId": "fdff4660-d464-4b0c-ad62-7e51b705d609"
      },
      "source": [
        "#Separando a coluna de data que inclui a hora zerada\n",
        "\n",
        "df1['date'] = pd.to_datetime(df1['date'])\n",
        "df1['date1'] = df1['date'].dt.strftime('%Y-%m-%d')\n",
        "df1['hour'] = df1['date'].dt.strftime('%H:%M:%S')\n",
        "\n",
        "print(df1)"
      ],
      "execution_count": 6,
      "outputs": [
        {
          "output_type": "stream",
          "text": [
            "          id     season  stage  ...     away_team_name       date1      hour\n",
            "0          1  2008/2009      1  ...       Beerschot AC  2008-08-17  00:00:00\n",
            "1          2  2008/2009      1  ...   Sporting Lokeren  2008-08-16  00:00:00\n",
            "2          3  2008/2009      1  ...     RSC Anderlecht  2008-08-16  00:00:00\n",
            "3          4  2008/2009      1  ...          RAEC Mons  2008-08-17  00:00:00\n",
            "4          5  2008/2009      1  ...  Standard de Liège  2008-08-16  00:00:00\n",
            "...      ...        ...    ...  ...                ...         ...       ...\n",
            "25974  25975  2015/2016      9  ...            FC Thun  2015-09-22  00:00:00\n",
            "25975  25976  2015/2016      9  ...          FC Luzern  2015-09-23  00:00:00\n",
            "25976  25977  2015/2016      9  ...            FC Sion  2015-09-23  00:00:00\n",
            "25977  25978  2015/2016      9  ...          FC Zürich  2015-09-22  00:00:00\n",
            "25978  25979  2015/2016      9  ...           FC Basel  2015-09-23  00:00:00\n",
            "\n",
            "[25979 rows x 10 columns]\n"
          ],
          "name": "stdout"
        }
      ]
    },
    {
      "cell_type": "markdown",
      "metadata": {
        "id": "BgWYSoDqfKyU",
        "colab_type": "text"
      },
      "source": [
        "Fazendo um novo dataframe sem a coluna de hora zerada e reordenando a sequência. Retirando também as colunas id e stage."
      ]
    },
    {
      "cell_type": "code",
      "metadata": {
        "id": "FCcgOiFlb-ti",
        "colab_type": "code",
        "colab": {
          "base_uri": "https://localhost:8080/",
          "height": 359
        },
        "outputId": "b03b9716-f185-4aaa-bbc6-fd0b2b03b448"
      },
      "source": [
        "df2 = df1.drop(['date'], axis=1)\n",
        "df2 = df2[['season', 'date1', 'home_team_name','home_team_goal', \n",
        "           'away_team_name', 'away_team_goal',]]\n",
        "\n",
        "df2.head(10)         "
      ],
      "execution_count": 7,
      "outputs": [
        {
          "output_type": "execute_result",
          "data": {
            "text/html": [
              "<div>\n",
              "<style scoped>\n",
              "    .dataframe tbody tr th:only-of-type {\n",
              "        vertical-align: middle;\n",
              "    }\n",
              "\n",
              "    .dataframe tbody tr th {\n",
              "        vertical-align: top;\n",
              "    }\n",
              "\n",
              "    .dataframe thead th {\n",
              "        text-align: right;\n",
              "    }\n",
              "</style>\n",
              "<table border=\"1\" class=\"dataframe\">\n",
              "  <thead>\n",
              "    <tr style=\"text-align: right;\">\n",
              "      <th></th>\n",
              "      <th>season</th>\n",
              "      <th>date1</th>\n",
              "      <th>home_team_name</th>\n",
              "      <th>home_team_goal</th>\n",
              "      <th>away_team_name</th>\n",
              "      <th>away_team_goal</th>\n",
              "    </tr>\n",
              "  </thead>\n",
              "  <tbody>\n",
              "    <tr>\n",
              "      <th>0</th>\n",
              "      <td>2008/2009</td>\n",
              "      <td>2008-08-17</td>\n",
              "      <td>KRC Genk</td>\n",
              "      <td>1</td>\n",
              "      <td>Beerschot AC</td>\n",
              "      <td>1</td>\n",
              "    </tr>\n",
              "    <tr>\n",
              "      <th>1</th>\n",
              "      <td>2008/2009</td>\n",
              "      <td>2008-08-16</td>\n",
              "      <td>SV Zulte-Waregem</td>\n",
              "      <td>0</td>\n",
              "      <td>Sporting Lokeren</td>\n",
              "      <td>0</td>\n",
              "    </tr>\n",
              "    <tr>\n",
              "      <th>2</th>\n",
              "      <td>2008/2009</td>\n",
              "      <td>2008-08-16</td>\n",
              "      <td>KSV Cercle Brugge</td>\n",
              "      <td>0</td>\n",
              "      <td>RSC Anderlecht</td>\n",
              "      <td>3</td>\n",
              "    </tr>\n",
              "    <tr>\n",
              "      <th>3</th>\n",
              "      <td>2008/2009</td>\n",
              "      <td>2008-08-17</td>\n",
              "      <td>KAA Gent</td>\n",
              "      <td>5</td>\n",
              "      <td>RAEC Mons</td>\n",
              "      <td>0</td>\n",
              "    </tr>\n",
              "    <tr>\n",
              "      <th>4</th>\n",
              "      <td>2008/2009</td>\n",
              "      <td>2008-08-16</td>\n",
              "      <td>FCV Dender EH</td>\n",
              "      <td>1</td>\n",
              "      <td>Standard de Liège</td>\n",
              "      <td>3</td>\n",
              "    </tr>\n",
              "    <tr>\n",
              "      <th>5</th>\n",
              "      <td>2008/2009</td>\n",
              "      <td>2008-09-24</td>\n",
              "      <td>KV Mechelen</td>\n",
              "      <td>1</td>\n",
              "      <td>Club Brugge KV</td>\n",
              "      <td>1</td>\n",
              "    </tr>\n",
              "    <tr>\n",
              "      <th>6</th>\n",
              "      <td>2008/2009</td>\n",
              "      <td>2008-08-16</td>\n",
              "      <td>KSV Roeselare</td>\n",
              "      <td>2</td>\n",
              "      <td>KV Kortrijk</td>\n",
              "      <td>2</td>\n",
              "    </tr>\n",
              "    <tr>\n",
              "      <th>7</th>\n",
              "      <td>2008/2009</td>\n",
              "      <td>2008-08-16</td>\n",
              "      <td>Tubize</td>\n",
              "      <td>1</td>\n",
              "      <td>Royal Excel Mouscron</td>\n",
              "      <td>2</td>\n",
              "    </tr>\n",
              "    <tr>\n",
              "      <th>8</th>\n",
              "      <td>2008/2009</td>\n",
              "      <td>2008-08-16</td>\n",
              "      <td>KVC Westerlo</td>\n",
              "      <td>1</td>\n",
              "      <td>Sporting Charleroi</td>\n",
              "      <td>0</td>\n",
              "    </tr>\n",
              "    <tr>\n",
              "      <th>9</th>\n",
              "      <td>2008/2009</td>\n",
              "      <td>2008-11-01</td>\n",
              "      <td>Club Brugge KV</td>\n",
              "      <td>4</td>\n",
              "      <td>KV Kortrijk</td>\n",
              "      <td>1</td>\n",
              "    </tr>\n",
              "  </tbody>\n",
              "</table>\n",
              "</div>"
            ],
            "text/plain": [
              "      season       date1  ...        away_team_name  away_team_goal\n",
              "0  2008/2009  2008-08-17  ...          Beerschot AC               1\n",
              "1  2008/2009  2008-08-16  ...      Sporting Lokeren               0\n",
              "2  2008/2009  2008-08-16  ...        RSC Anderlecht               3\n",
              "3  2008/2009  2008-08-17  ...             RAEC Mons               0\n",
              "4  2008/2009  2008-08-16  ...     Standard de Liège               3\n",
              "5  2008/2009  2008-09-24  ...        Club Brugge KV               1\n",
              "6  2008/2009  2008-08-16  ...           KV Kortrijk               2\n",
              "7  2008/2009  2008-08-16  ...  Royal Excel Mouscron               2\n",
              "8  2008/2009  2008-08-16  ...    Sporting Charleroi               0\n",
              "9  2008/2009  2008-11-01  ...           KV Kortrijk               1\n",
              "\n",
              "[10 rows x 6 columns]"
            ]
          },
          "metadata": {
            "tags": []
          },
          "execution_count": 7
        }
      ]
    },
    {
      "cell_type": "markdown",
      "metadata": {
        "id": "Td7Gt6X5Snkj",
        "colab_type": "text"
      },
      "source": [
        "### Verificando o dataset e algumas informações/características"
      ]
    },
    {
      "cell_type": "code",
      "metadata": {
        "id": "j3jSJO-UJ6Ws",
        "colab_type": "code",
        "colab": {
          "base_uri": "https://localhost:8080/",
          "height": 51
        },
        "outputId": "7697d98c-4d58-4aa7-a9bf-d893cb7f0568"
      },
      "source": [
        "df2['season'].unique()"
      ],
      "execution_count": 8,
      "outputs": [
        {
          "output_type": "execute_result",
          "data": {
            "text/plain": [
              "array(['2008/2009', '2009/2010', '2010/2011', '2011/2012', '2012/2013',\n",
              "       '2013/2014', '2014/2015', '2015/2016'], dtype=object)"
            ]
          },
          "metadata": {
            "tags": []
          },
          "execution_count": 8
        }
      ]
    },
    {
      "cell_type": "code",
      "metadata": {
        "id": "wdfmKNNjKdnj",
        "colab_type": "code",
        "colab": {
          "base_uri": "https://localhost:8080/",
          "height": 34
        },
        "outputId": "120d79e0-fce6-48c8-b9ca-419711e6dfe6"
      },
      "source": [
        "df2['home_team_goal'].unique()"
      ],
      "execution_count": 9,
      "outputs": [
        {
          "output_type": "execute_result",
          "data": {
            "text/plain": [
              "array([ 1,  0,  5,  2,  4,  3,  7,  6,  9,  8, 10])"
            ]
          },
          "metadata": {
            "tags": []
          },
          "execution_count": 9
        }
      ]
    },
    {
      "cell_type": "code",
      "metadata": {
        "id": "LlXfoaTCKknm",
        "colab_type": "code",
        "colab": {
          "base_uri": "https://localhost:8080/",
          "height": 34
        },
        "outputId": "7e28ea0f-96d1-445a-b4df-eec8b805f671"
      },
      "source": [
        "df2['away_team_goal'].unique()"
      ],
      "execution_count": 10,
      "outputs": [
        {
          "output_type": "execute_result",
          "data": {
            "text/plain": [
              "array([1, 0, 3, 2, 4, 5, 6, 7, 9, 8])"
            ]
          },
          "metadata": {
            "tags": []
          },
          "execution_count": 10
        }
      ]
    },
    {
      "cell_type": "code",
      "metadata": {
        "id": "nOR2qaswSnkl",
        "colab_type": "code",
        "colab": {
          "base_uri": "https://localhost:8080/",
          "height": 34
        },
        "outputId": "21a3fcae-58b4-463c-f3d9-e626cb56e978"
      },
      "source": [
        "df2.shape\n"
      ],
      "execution_count": 11,
      "outputs": [
        {
          "output_type": "execute_result",
          "data": {
            "text/plain": [
              "(25979, 6)"
            ]
          },
          "metadata": {
            "tags": []
          },
          "execution_count": 11
        }
      ]
    },
    {
      "cell_type": "code",
      "metadata": {
        "id": "YIXc4K8USnkq",
        "colab_type": "code",
        "colab": {
          "base_uri": "https://localhost:8080/",
          "height": 255
        },
        "outputId": "2e424be9-29df-4b87-8b45-8f55cca2665f"
      },
      "source": [
        "df2.describe"
      ],
      "execution_count": 12,
      "outputs": [
        {
          "output_type": "execute_result",
          "data": {
            "text/plain": [
              "<bound method NDFrame.describe of           season       date1  ...     away_team_name  away_team_goal\n",
              "0      2008/2009  2008-08-17  ...       Beerschot AC               1\n",
              "1      2008/2009  2008-08-16  ...   Sporting Lokeren               0\n",
              "2      2008/2009  2008-08-16  ...     RSC Anderlecht               3\n",
              "3      2008/2009  2008-08-17  ...          RAEC Mons               0\n",
              "4      2008/2009  2008-08-16  ...  Standard de Liège               3\n",
              "...          ...         ...  ...                ...             ...\n",
              "25974  2015/2016  2015-09-22  ...            FC Thun               0\n",
              "25975  2015/2016  2015-09-23  ...          FC Luzern               2\n",
              "25976  2015/2016  2015-09-23  ...            FC Sion               0\n",
              "25977  2015/2016  2015-09-22  ...          FC Zürich               0\n",
              "25978  2015/2016  2015-09-23  ...           FC Basel               3\n",
              "\n",
              "[25979 rows x 6 columns]>"
            ]
          },
          "metadata": {
            "tags": []
          },
          "execution_count": 12
        }
      ]
    },
    {
      "cell_type": "code",
      "metadata": {
        "id": "gGxfsei2Snkx",
        "colab_type": "code",
        "colab": {
          "base_uri": "https://localhost:8080/",
          "height": 136
        },
        "outputId": "824ecfec-ed9f-4e74-e42a-aa0b34263cc8"
      },
      "source": [
        "df2.dtypes"
      ],
      "execution_count": 13,
      "outputs": [
        {
          "output_type": "execute_result",
          "data": {
            "text/plain": [
              "season            object\n",
              "date1             object\n",
              "home_team_name    object\n",
              "home_team_goal     int64\n",
              "away_team_name    object\n",
              "away_team_goal     int64\n",
              "dtype: object"
            ]
          },
          "metadata": {
            "tags": []
          },
          "execution_count": 13
        }
      ]
    },
    {
      "cell_type": "markdown",
      "metadata": {
        "id": "vx7KYu2ESnlA",
        "colab_type": "text"
      },
      "source": [
        "Consultando informações referentes aos Gols feitos em casa e fora de casa"
      ]
    },
    {
      "cell_type": "code",
      "metadata": {
        "id": "kh4mtPLsBzWH",
        "colab_type": "code",
        "colab": {
          "base_uri": "https://localhost:8080/",
          "height": 34
        },
        "outputId": "eb800b97-c117-4ba2-a739-eb647331cd67"
      },
      "source": [
        "#Verificando a quantidade máxima de Gols em uma partida em casa\n",
        "\n",
        "column = df2['home_team_goal']\n",
        "max_value = column.max()\n",
        "print(max_value)\n"
      ],
      "execution_count": 14,
      "outputs": [
        {
          "output_type": "stream",
          "text": [
            "10\n"
          ],
          "name": "stdout"
        }
      ]
    },
    {
      "cell_type": "code",
      "metadata": {
        "id": "s2VwjVhOD0Dg",
        "colab_type": "code",
        "colab": {
          "base_uri": "https://localhost:8080/",
          "height": 34
        },
        "outputId": "8069552d-19bf-4a02-caa4-e508ba1ecab4"
      },
      "source": [
        "#Index do jogo com maior número de gols do 'home team'\n",
        "\n",
        "max_index = column.idxmax()\n",
        "print(max_index)\n"
      ],
      "execution_count": 17,
      "outputs": [
        {
          "output_type": "stream",
          "text": [
            "13898\n"
          ],
          "name": "stdout"
        }
      ]
    },
    {
      "cell_type": "code",
      "metadata": {
        "id": "6UtqD9rzD_mp",
        "colab_type": "code",
        "colab": {
          "base_uri": "https://localhost:8080/",
          "height": 136
        },
        "outputId": "57dc26f6-d045-4875-c876-439056c00303"
      },
      "source": [
        "#Informações sobre esse jogo\n",
        "df2.loc[13898]"
      ],
      "execution_count": 18,
      "outputs": [
        {
          "output_type": "execute_result",
          "data": {
            "text/plain": [
              "season             2010/2011\n",
              "date1             2010-10-24\n",
              "home_team_name           PSV\n",
              "home_team_goal            10\n",
              "away_team_name     Feyenoord\n",
              "away_team_goal             0\n",
              "Name: 13898, dtype: object"
            ]
          },
          "metadata": {
            "tags": []
          },
          "execution_count": 18
        }
      ]
    },
    {
      "cell_type": "code",
      "metadata": {
        "id": "iYFN3LIFSnlB",
        "colab_type": "code",
        "colab": {
          "base_uri": "https://localhost:8080/",
          "height": 221
        },
        "outputId": "d41c77ac-57c4-4add-e365-c885e95dd5e3"
      },
      "source": [
        "#Verificando quantas partidas em casa tiveram um número 'x' de gols (de 01 a 10-máx)\n",
        "\n",
        "df_gols_em_casa = column.value_counts().sort_values('index')\n",
        "df_gols_em_casa"
      ],
      "execution_count": 19,
      "outputs": [
        {
          "output_type": "execute_result",
          "data": {
            "text/plain": [
              "10       2\n",
              "9        4\n",
              "8        9\n",
              "7       38\n",
              "6      161\n",
              "5      457\n",
              "4     1385\n",
              "3     3288\n",
              "0     5896\n",
              "2     6339\n",
              "1     8400\n",
              "Name: home_team_goal, dtype: int64"
            ]
          },
          "metadata": {
            "tags": []
          },
          "execution_count": 19
        }
      ]
    },
    {
      "cell_type": "code",
      "metadata": {
        "id": "VQ2ZHOogCEpJ",
        "colab_type": "code",
        "colab": {
          "base_uri": "https://localhost:8080/",
          "height": 170
        },
        "outputId": "27fe33be-9364-417f-d397-b52dafc1e932"
      },
      "source": [
        "#Verificando as informações sobre os gols feitos em casa\n",
        "\n",
        "column.describe()"
      ],
      "execution_count": 20,
      "outputs": [
        {
          "output_type": "execute_result",
          "data": {
            "text/plain": [
              "count    25979.000000\n",
              "mean         1.544594\n",
              "std          1.297158\n",
              "min          0.000000\n",
              "25%          1.000000\n",
              "50%          1.000000\n",
              "75%          2.000000\n",
              "max         10.000000\n",
              "Name: home_team_goal, dtype: float64"
            ]
          },
          "metadata": {
            "tags": []
          },
          "execution_count": 20
        }
      ]
    },
    {
      "cell_type": "code",
      "metadata": {
        "id": "wJlWx11JCRf1",
        "colab_type": "code",
        "colab": {
          "base_uri": "https://localhost:8080/",
          "height": 34
        },
        "outputId": "33229dc5-4b0b-43f9-cac9-bca143810527"
      },
      "source": [
        "#Verificando a quantidade máxima de Gols em uma partida fora de casa\n",
        "\n",
        "column2 = df2['away_team_goal']\n",
        "max_value2 = column2.max()\n",
        "print(max_value2)"
      ],
      "execution_count": 21,
      "outputs": [
        {
          "output_type": "stream",
          "text": [
            "9\n"
          ],
          "name": "stdout"
        }
      ]
    },
    {
      "cell_type": "code",
      "metadata": {
        "id": "I3sEhPKTEMyT",
        "colab_type": "code",
        "colab": {
          "base_uri": "https://localhost:8080/",
          "height": 34
        },
        "outputId": "1dadca75-7b61-434d-f0eb-cfbe046a8d96"
      },
      "source": [
        "#Index do jogo com maior número de gols do 'home team'\n",
        "max_index2 = column2.idxmax()\n",
        "print(max_index2)"
      ],
      "execution_count": 22,
      "outputs": [
        {
          "output_type": "stream",
          "text": [
            "7660\n"
          ],
          "name": "stdout"
        }
      ]
    },
    {
      "cell_type": "code",
      "metadata": {
        "id": "hYxFEjjQEQMc",
        "colab_type": "code",
        "colab": {
          "base_uri": "https://localhost:8080/",
          "height": 136
        },
        "outputId": "a489e9f1-3bf0-4c0c-f000-edd837d0d58b"
      },
      "source": [
        "#Informações sobre esse jogo\n",
        "df2.loc[7660]"
      ],
      "execution_count": 23,
      "outputs": [
        {
          "output_type": "execute_result",
          "data": {
            "text/plain": [
              "season                      2015/2016\n",
              "date1                      2016-03-13\n",
              "home_team_name           ES Troyes AC\n",
              "home_team_goal                      0\n",
              "away_team_name    Paris Saint-Germain\n",
              "away_team_goal                      9\n",
              "Name: 7660, dtype: object"
            ]
          },
          "metadata": {
            "tags": []
          },
          "execution_count": 23
        }
      ]
    },
    {
      "cell_type": "code",
      "metadata": {
        "id": "VJOYlgBiCU75",
        "colab_type": "code",
        "colab": {
          "base_uri": "https://localhost:8080/",
          "height": 204
        },
        "outputId": "1bedeeec-1ebb-48d3-9f5d-f792797480ad"
      },
      "source": [
        "#Verificando quantas partidas fora de casa tiveram um número 'x' de gols (de 01 a 09-máx)\n",
        "\n",
        "df_gols_fora_casa = column2.value_counts().sort_values('index')\n",
        "df_gols_fora_casa"
      ],
      "execution_count": 24,
      "outputs": [
        {
          "output_type": "execute_result",
          "data": {
            "text/plain": [
              "9       1\n",
              "8       5\n",
              "7      10\n",
              "6      63\n",
              "5     215\n",
              "4     718\n",
              "3    2145\n",
              "2    5146\n",
              "0    8687\n",
              "1    8989\n",
              "Name: away_team_goal, dtype: int64"
            ]
          },
          "metadata": {
            "tags": []
          },
          "execution_count": 24
        }
      ]
    },
    {
      "cell_type": "code",
      "metadata": {
        "id": "zbh3Ol4l_69_",
        "colab_type": "code",
        "colab": {
          "base_uri": "https://localhost:8080/",
          "height": 170
        },
        "outputId": "fd0d5241-18bb-46a0-ba41-753a3e0a8d5e"
      },
      "source": [
        "#Verificando as informações sobre os gols feitos fora de casa\n",
        "\n",
        "column2.describe()"
      ],
      "execution_count": 25,
      "outputs": [
        {
          "output_type": "execute_result",
          "data": {
            "text/plain": [
              "count    25979.000000\n",
              "mean         1.160938\n",
              "std          1.142110\n",
              "min          0.000000\n",
              "25%          0.000000\n",
              "50%          1.000000\n",
              "75%          2.000000\n",
              "max          9.000000\n",
              "Name: away_team_goal, dtype: float64"
            ]
          },
          "metadata": {
            "tags": []
          },
          "execution_count": 25
        }
      ]
    },
    {
      "cell_type": "code",
      "metadata": {
        "id": "W8mhlzfMVqdR",
        "colab_type": "code",
        "colab": {
          "base_uri": "https://localhost:8080/",
          "height": 204
        },
        "outputId": "8b9837b3-2b14-4128-c9f0-d8522377fb36"
      },
      "source": [
        "#Consultando index do jogo com maior número de gols no total\n",
        "\n",
        "total_gols = df2['home_team_goal'] + df2['away_team_goal']\n",
        "total_gols.sort_values(ascending=False)[:10]"
      ],
      "execution_count": 27,
      "outputs": [
        {
          "output_type": "execute_result",
          "data": {
            "text/plain": [
              "20106    12\n",
              "24247    12\n",
              "9210     11\n",
              "2156     10\n",
              "3565     10\n",
              "24122    10\n",
              "13898    10\n",
              "5191     10\n",
              "23443    10\n",
              "24015    10\n",
              "dtype: int64"
            ]
          },
          "metadata": {
            "tags": []
          },
          "execution_count": 27
        }
      ]
    },
    {
      "cell_type": "code",
      "metadata": {
        "id": "M5JF4G8iY1RW",
        "colab_type": "code",
        "colab": {
          "base_uri": "https://localhost:8080/",
          "height": 136
        },
        "outputId": "0f7ad05f-3f11-463a-cfe7-2a623563bdba"
      },
      "source": [
        "#Selecionamos os jogos que tiveram o maior número de gols para verificar suas informações\n",
        "\n",
        "df2.loc[20106]"
      ],
      "execution_count": 28,
      "outputs": [
        {
          "output_type": "execute_result",
          "data": {
            "text/plain": [
              "season             2009/2010\n",
              "date1             2010-05-05\n",
              "home_team_name    Motherwell\n",
              "home_team_goal             6\n",
              "away_team_name     Hibernian\n",
              "away_team_goal             6\n",
              "Name: 20106, dtype: object"
            ]
          },
          "metadata": {
            "tags": []
          },
          "execution_count": 28
        }
      ]
    },
    {
      "cell_type": "code",
      "metadata": {
        "id": "4J3JQ5_StRie",
        "colab_type": "code",
        "colab": {
          "base_uri": "https://localhost:8080/",
          "height": 136
        },
        "outputId": "1e7cda6b-70ae-4511-fe7b-8c94708c221c"
      },
      "source": [
        "df2.loc[24247]"
      ],
      "execution_count": 29,
      "outputs": [
        {
          "output_type": "execute_result",
          "data": {
            "text/plain": [
              "season                 2015/2016\n",
              "date1                 2015-12-20\n",
              "home_team_name    Real Madrid CF\n",
              "home_team_goal                10\n",
              "away_team_name    Rayo Vallecano\n",
              "away_team_goal                 2\n",
              "Name: 24247, dtype: object"
            ]
          },
          "metadata": {
            "tags": []
          },
          "execution_count": 29
        }
      ]
    },
    {
      "cell_type": "markdown",
      "metadata": {
        "id": "tsRRWyXpjy6U",
        "colab_type": "text"
      },
      "source": [
        "### Selecionando jogos com revanche"
      ]
    },
    {
      "cell_type": "markdown",
      "metadata": {
        "id": "Bc75cDJ9nF4t",
        "colab_type": "text"
      },
      "source": [
        "Primeiro reorganizando os times por ordem alfabética e criando um novo dataframe."
      ]
    },
    {
      "cell_type": "code",
      "metadata": {
        "id": "0NI4v4-VlE-z",
        "colab_type": "code",
        "colab": {
          "base_uri": "https://localhost:8080/",
          "height": 419
        },
        "outputId": "c23aeaac-f373-4b6c-f9bf-c894534d18e2"
      },
      "source": [
        "df2_games = pd.DataFrame(np.sort(df2[['home_team_name', 'away_team_name']], axis=1),\n",
        "                             columns=['Time1', 'Time2'])\n",
        "df2_games"
      ],
      "execution_count": 30,
      "outputs": [
        {
          "output_type": "execute_result",
          "data": {
            "text/html": [
              "<div>\n",
              "<style scoped>\n",
              "    .dataframe tbody tr th:only-of-type {\n",
              "        vertical-align: middle;\n",
              "    }\n",
              "\n",
              "    .dataframe tbody tr th {\n",
              "        vertical-align: top;\n",
              "    }\n",
              "\n",
              "    .dataframe thead th {\n",
              "        text-align: right;\n",
              "    }\n",
              "</style>\n",
              "<table border=\"1\" class=\"dataframe\">\n",
              "  <thead>\n",
              "    <tr style=\"text-align: right;\">\n",
              "      <th></th>\n",
              "      <th>Time1</th>\n",
              "      <th>Time2</th>\n",
              "    </tr>\n",
              "  </thead>\n",
              "  <tbody>\n",
              "    <tr>\n",
              "      <th>0</th>\n",
              "      <td>Beerschot AC</td>\n",
              "      <td>KRC Genk</td>\n",
              "    </tr>\n",
              "    <tr>\n",
              "      <th>1</th>\n",
              "      <td>SV Zulte-Waregem</td>\n",
              "      <td>Sporting Lokeren</td>\n",
              "    </tr>\n",
              "    <tr>\n",
              "      <th>2</th>\n",
              "      <td>KSV Cercle Brugge</td>\n",
              "      <td>RSC Anderlecht</td>\n",
              "    </tr>\n",
              "    <tr>\n",
              "      <th>3</th>\n",
              "      <td>KAA Gent</td>\n",
              "      <td>RAEC Mons</td>\n",
              "    </tr>\n",
              "    <tr>\n",
              "      <th>4</th>\n",
              "      <td>FCV Dender EH</td>\n",
              "      <td>Standard de Liège</td>\n",
              "    </tr>\n",
              "    <tr>\n",
              "      <th>...</th>\n",
              "      <td>...</td>\n",
              "      <td>...</td>\n",
              "    </tr>\n",
              "    <tr>\n",
              "      <th>25974</th>\n",
              "      <td>FC St. Gallen</td>\n",
              "      <td>FC Thun</td>\n",
              "    </tr>\n",
              "    <tr>\n",
              "      <th>25975</th>\n",
              "      <td>FC Luzern</td>\n",
              "      <td>FC Vaduz</td>\n",
              "    </tr>\n",
              "    <tr>\n",
              "      <th>25976</th>\n",
              "      <td>FC Sion</td>\n",
              "      <td>Grasshopper Club Zürich</td>\n",
              "    </tr>\n",
              "    <tr>\n",
              "      <th>25977</th>\n",
              "      <td>FC Zürich</td>\n",
              "      <td>Lugano</td>\n",
              "    </tr>\n",
              "    <tr>\n",
              "      <th>25978</th>\n",
              "      <td>BSC Young Boys</td>\n",
              "      <td>FC Basel</td>\n",
              "    </tr>\n",
              "  </tbody>\n",
              "</table>\n",
              "<p>25979 rows × 2 columns</p>\n",
              "</div>"
            ],
            "text/plain": [
              "                   Time1                    Time2\n",
              "0           Beerschot AC                 KRC Genk\n",
              "1       SV Zulte-Waregem         Sporting Lokeren\n",
              "2      KSV Cercle Brugge           RSC Anderlecht\n",
              "3               KAA Gent                RAEC Mons\n",
              "4          FCV Dender EH        Standard de Liège\n",
              "...                  ...                      ...\n",
              "25974      FC St. Gallen                  FC Thun\n",
              "25975          FC Luzern                 FC Vaduz\n",
              "25976            FC Sion  Grasshopper Club Zürich\n",
              "25977          FC Zürich                   Lugano\n",
              "25978     BSC Young Boys                 FC Basel\n",
              "\n",
              "[25979 rows x 2 columns]"
            ]
          },
          "metadata": {
            "tags": []
          },
          "execution_count": 30
        }
      ]
    },
    {
      "cell_type": "code",
      "metadata": {
        "id": "Tievt0WEm1vz",
        "colab_type": "code",
        "colab": {
          "base_uri": "https://localhost:8080/",
          "height": 391
        },
        "outputId": "396fc5bd-8362-43d1-d07a-43cee9ef7e52"
      },
      "source": [
        "# Em seguida, verificando as revanches / quando vezes os mesmo times se enfrentaram\n",
        "\n",
        "df2_games.groupby(['Time1', 'Time2'])\\\n",
        "         .size().sort_values(ascending=False)[:20]"
      ],
      "execution_count": 32,
      "outputs": [
        {
          "output_type": "execute_result",
          "data": {
            "text/plain": [
              "Time1           Time2                  \n",
              "FC Zürich       Grasshopper Club Zürich    32\n",
              "BSC Young Boys  FC Basel                   32\n",
              "FC Basel        Grasshopper Club Zürich    32\n",
              "                FC Zürich                  32\n",
              "BSC Young Boys  Grasshopper Club Zürich    32\n",
              "                FC Zürich                  32\n",
              "FC Basel        FC Sion                    32\n",
              "BSC Young Boys  FC Sion                    32\n",
              "                FC Luzern                  32\n",
              "FC Basel        FC Luzern                  32\n",
              "FC Sion         FC Zürich                  32\n",
              "FC Luzern       FC Sion                    32\n",
              "FC Sion         Grasshopper Club Zürich    32\n",
              "FC Luzern       FC Zürich                  32\n",
              "                Grasshopper Club Zürich    32\n",
              "Celtic          Dundee United              31\n",
              "                Motherwell                 30\n",
              "Dundee United   Motherwell                 29\n",
              "Aberdeen        Celtic                     28\n",
              "                Kilmarnock                 27\n",
              "dtype: int64"
            ]
          },
          "metadata": {
            "tags": []
          },
          "execution_count": 32
        }
      ]
    },
    {
      "cell_type": "markdown",
      "metadata": {
        "id": "Zb64QiFCSnlm",
        "colab_type": "text"
      },
      "source": [
        "### Visualizando os dados"
      ]
    },
    {
      "cell_type": "code",
      "metadata": {
        "id": "iyHK1_bCwsfh",
        "colab_type": "code",
        "colab": {
          "base_uri": "https://localhost:8080/",
          "height": 170
        },
        "outputId": "e21635e6-305b-4860-fbf8-299fc95f30c3"
      },
      "source": [
        "#Quantidade de jogos por temporada: 2015/2016 e 2008/2009 foram as com mais quantidades e a 2013/2014, com menos jogos.\n",
        "\n",
        "df_season = df2['season'].value_counts()\n",
        "df_season"
      ],
      "execution_count": 33,
      "outputs": [
        {
          "output_type": "execute_result",
          "data": {
            "text/plain": [
              "2008/2009    3326\n",
              "2015/2016    3326\n",
              "2014/2015    3325\n",
              "2012/2013    3260\n",
              "2010/2011    3260\n",
              "2009/2010    3230\n",
              "2011/2012    3220\n",
              "2013/2014    3032\n",
              "Name: season, dtype: int64"
            ]
          },
          "metadata": {
            "tags": []
          },
          "execution_count": 33
        }
      ]
    },
    {
      "cell_type": "code",
      "metadata": {
        "id": "0mmmLhGSSnl7",
        "colab_type": "code",
        "colab": {
          "base_uri": "https://localhost:8080/",
          "height": 611
        },
        "outputId": "9906ff5f-b1cc-4826-b18b-61906b833520"
      },
      "source": [
        "plt.figure(figsize=(12, 9))\n",
        "games_season = df2['season'].value_counts()\n",
        "games_season.plot(kind='bar')\n",
        "plt.xlabel('Temporada')\n",
        "plt.ylabel('Quantidade de Jogos')\n",
        "plt.title('Jogos por Temporada')\n",
        "plt.show()"
      ],
      "execution_count": 34,
      "outputs": [
        {
          "output_type": "display_data",
          "data": {
            "image/png": "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\n",
            "text/plain": [
              "<Figure size 864x648 with 1 Axes>"
            ]
          },
          "metadata": {
            "tags": [],
            "needs_background": "light"
          }
        }
      ]
    },
    {
      "cell_type": "markdown",
      "metadata": {
        "id": "PSuVSkv0uLR2",
        "colab_type": "text"
      },
      "source": [
        "#### CRIAÇÃO DE DUAS NOVAS VARIÁVEIS \n"
      ]
    },
    {
      "cell_type": "markdown",
      "metadata": {
        "id": "4FwKt2rO0b1u",
        "colab_type": "text"
      },
      "source": [
        "#### Uma variável irá representar se o time da casa ganhou "
      ]
    },
    {
      "cell_type": "code",
      "metadata": {
        "id": "hIErGMfO3aWM",
        "colab_type": "code",
        "colab": {
          "base_uri": "https://localhost:8080/",
          "height": 359
        },
        "outputId": "fda1bf6d-6cd9-4b2a-9835-922d4ff476a3"
      },
      "source": [
        "# RESUMINDO O NOSSO DATAFRAME AO QUE SERÁ TRABALHADO DE FATO. SEI QUE PODIA TER FEITO NO DF2,\n",
        "# MAS ESCOLHI FAZER UM CAMINHO MAIS LONGO PARA DESENVOLVER MELHOR\n",
        "\n",
        "df3 = df2[['home_team_name','home_team_goal', \n",
        "           'away_team_name', 'away_team_goal',]]\n",
        "\n",
        "df3.head(10)     \n",
        "\n"
      ],
      "execution_count": 36,
      "outputs": [
        {
          "output_type": "execute_result",
          "data": {
            "text/html": [
              "<div>\n",
              "<style scoped>\n",
              "    .dataframe tbody tr th:only-of-type {\n",
              "        vertical-align: middle;\n",
              "    }\n",
              "\n",
              "    .dataframe tbody tr th {\n",
              "        vertical-align: top;\n",
              "    }\n",
              "\n",
              "    .dataframe thead th {\n",
              "        text-align: right;\n",
              "    }\n",
              "</style>\n",
              "<table border=\"1\" class=\"dataframe\">\n",
              "  <thead>\n",
              "    <tr style=\"text-align: right;\">\n",
              "      <th></th>\n",
              "      <th>home_team_name</th>\n",
              "      <th>home_team_goal</th>\n",
              "      <th>away_team_name</th>\n",
              "      <th>away_team_goal</th>\n",
              "    </tr>\n",
              "  </thead>\n",
              "  <tbody>\n",
              "    <tr>\n",
              "      <th>0</th>\n",
              "      <td>KRC Genk</td>\n",
              "      <td>1</td>\n",
              "      <td>Beerschot AC</td>\n",
              "      <td>1</td>\n",
              "    </tr>\n",
              "    <tr>\n",
              "      <th>1</th>\n",
              "      <td>SV Zulte-Waregem</td>\n",
              "      <td>0</td>\n",
              "      <td>Sporting Lokeren</td>\n",
              "      <td>0</td>\n",
              "    </tr>\n",
              "    <tr>\n",
              "      <th>2</th>\n",
              "      <td>KSV Cercle Brugge</td>\n",
              "      <td>0</td>\n",
              "      <td>RSC Anderlecht</td>\n",
              "      <td>3</td>\n",
              "    </tr>\n",
              "    <tr>\n",
              "      <th>3</th>\n",
              "      <td>KAA Gent</td>\n",
              "      <td>5</td>\n",
              "      <td>RAEC Mons</td>\n",
              "      <td>0</td>\n",
              "    </tr>\n",
              "    <tr>\n",
              "      <th>4</th>\n",
              "      <td>FCV Dender EH</td>\n",
              "      <td>1</td>\n",
              "      <td>Standard de Liège</td>\n",
              "      <td>3</td>\n",
              "    </tr>\n",
              "    <tr>\n",
              "      <th>5</th>\n",
              "      <td>KV Mechelen</td>\n",
              "      <td>1</td>\n",
              "      <td>Club Brugge KV</td>\n",
              "      <td>1</td>\n",
              "    </tr>\n",
              "    <tr>\n",
              "      <th>6</th>\n",
              "      <td>KSV Roeselare</td>\n",
              "      <td>2</td>\n",
              "      <td>KV Kortrijk</td>\n",
              "      <td>2</td>\n",
              "    </tr>\n",
              "    <tr>\n",
              "      <th>7</th>\n",
              "      <td>Tubize</td>\n",
              "      <td>1</td>\n",
              "      <td>Royal Excel Mouscron</td>\n",
              "      <td>2</td>\n",
              "    </tr>\n",
              "    <tr>\n",
              "      <th>8</th>\n",
              "      <td>KVC Westerlo</td>\n",
              "      <td>1</td>\n",
              "      <td>Sporting Charleroi</td>\n",
              "      <td>0</td>\n",
              "    </tr>\n",
              "    <tr>\n",
              "      <th>9</th>\n",
              "      <td>Club Brugge KV</td>\n",
              "      <td>4</td>\n",
              "      <td>KV Kortrijk</td>\n",
              "      <td>1</td>\n",
              "    </tr>\n",
              "  </tbody>\n",
              "</table>\n",
              "</div>"
            ],
            "text/plain": [
              "      home_team_name  home_team_goal        away_team_name  away_team_goal\n",
              "0           KRC Genk               1          Beerschot AC               1\n",
              "1   SV Zulte-Waregem               0      Sporting Lokeren               0\n",
              "2  KSV Cercle Brugge               0        RSC Anderlecht               3\n",
              "3           KAA Gent               5             RAEC Mons               0\n",
              "4      FCV Dender EH               1     Standard de Liège               3\n",
              "5        KV Mechelen               1        Club Brugge KV               1\n",
              "6      KSV Roeselare               2           KV Kortrijk               2\n",
              "7             Tubize               1  Royal Excel Mouscron               2\n",
              "8       KVC Westerlo               1    Sporting Charleroi               0\n",
              "9     Club Brugge KV               4           KV Kortrijk               1"
            ]
          },
          "metadata": {
            "tags": []
          },
          "execution_count": 36
        }
      ]
    },
    {
      "cell_type": "code",
      "metadata": {
        "id": "XSUatgVtu30F",
        "colab_type": "code",
        "colab": {
          "base_uri": "https://localhost:8080/",
          "height": 521
        },
        "outputId": "0a1ad4bd-6d47-4a0f-91a3-78607f16f063"
      },
      "source": [
        "# CRIANDO UMA NOVA VARIÁVEL QUE REPRESENTA SE O TIME DA CASA GANHOU\n",
        "\n",
        "result=[]\n",
        "\n",
        "for i in range(len(df3)):\n",
        "  if df3.iloc[i, 1] > df3.iloc[i, 3]:\n",
        "        result.append(df3.iloc[i,0])\n",
        "  elif df3.iloc[i, 1] > df3.iloc[i, 3]:\n",
        "        result.append(None)\n",
        "  else:    \n",
        "        result.append(None)\n",
        "    \n",
        "df3['Team_victory_home'] = result\n",
        "\n",
        "df3\n"
      ],
      "execution_count": 37,
      "outputs": [
        {
          "output_type": "stream",
          "text": [
            "/usr/local/lib/python3.6/dist-packages/ipykernel_launcher.py:13: SettingWithCopyWarning: \n",
            "A value is trying to be set on a copy of a slice from a DataFrame.\n",
            "Try using .loc[row_indexer,col_indexer] = value instead\n",
            "\n",
            "See the caveats in the documentation: https://pandas.pydata.org/pandas-docs/stable/user_guide/indexing.html#returning-a-view-versus-a-copy\n",
            "  del sys.path[0]\n"
          ],
          "name": "stderr"
        },
        {
          "output_type": "execute_result",
          "data": {
            "text/html": [
              "<div>\n",
              "<style scoped>\n",
              "    .dataframe tbody tr th:only-of-type {\n",
              "        vertical-align: middle;\n",
              "    }\n",
              "\n",
              "    .dataframe tbody tr th {\n",
              "        vertical-align: top;\n",
              "    }\n",
              "\n",
              "    .dataframe thead th {\n",
              "        text-align: right;\n",
              "    }\n",
              "</style>\n",
              "<table border=\"1\" class=\"dataframe\">\n",
              "  <thead>\n",
              "    <tr style=\"text-align: right;\">\n",
              "      <th></th>\n",
              "      <th>home_team_name</th>\n",
              "      <th>home_team_goal</th>\n",
              "      <th>away_team_name</th>\n",
              "      <th>away_team_goal</th>\n",
              "      <th>Team_victory_home</th>\n",
              "    </tr>\n",
              "  </thead>\n",
              "  <tbody>\n",
              "    <tr>\n",
              "      <th>0</th>\n",
              "      <td>KRC Genk</td>\n",
              "      <td>1</td>\n",
              "      <td>Beerschot AC</td>\n",
              "      <td>1</td>\n",
              "      <td>None</td>\n",
              "    </tr>\n",
              "    <tr>\n",
              "      <th>1</th>\n",
              "      <td>SV Zulte-Waregem</td>\n",
              "      <td>0</td>\n",
              "      <td>Sporting Lokeren</td>\n",
              "      <td>0</td>\n",
              "      <td>None</td>\n",
              "    </tr>\n",
              "    <tr>\n",
              "      <th>2</th>\n",
              "      <td>KSV Cercle Brugge</td>\n",
              "      <td>0</td>\n",
              "      <td>RSC Anderlecht</td>\n",
              "      <td>3</td>\n",
              "      <td>None</td>\n",
              "    </tr>\n",
              "    <tr>\n",
              "      <th>3</th>\n",
              "      <td>KAA Gent</td>\n",
              "      <td>5</td>\n",
              "      <td>RAEC Mons</td>\n",
              "      <td>0</td>\n",
              "      <td>KAA Gent</td>\n",
              "    </tr>\n",
              "    <tr>\n",
              "      <th>4</th>\n",
              "      <td>FCV Dender EH</td>\n",
              "      <td>1</td>\n",
              "      <td>Standard de Liège</td>\n",
              "      <td>3</td>\n",
              "      <td>None</td>\n",
              "    </tr>\n",
              "    <tr>\n",
              "      <th>...</th>\n",
              "      <td>...</td>\n",
              "      <td>...</td>\n",
              "      <td>...</td>\n",
              "      <td>...</td>\n",
              "      <td>...</td>\n",
              "    </tr>\n",
              "    <tr>\n",
              "      <th>25974</th>\n",
              "      <td>FC St. Gallen</td>\n",
              "      <td>1</td>\n",
              "      <td>FC Thun</td>\n",
              "      <td>0</td>\n",
              "      <td>FC St. Gallen</td>\n",
              "    </tr>\n",
              "    <tr>\n",
              "      <th>25975</th>\n",
              "      <td>FC Vaduz</td>\n",
              "      <td>1</td>\n",
              "      <td>FC Luzern</td>\n",
              "      <td>2</td>\n",
              "      <td>None</td>\n",
              "    </tr>\n",
              "    <tr>\n",
              "      <th>25976</th>\n",
              "      <td>Grasshopper Club Zürich</td>\n",
              "      <td>2</td>\n",
              "      <td>FC Sion</td>\n",
              "      <td>0</td>\n",
              "      <td>Grasshopper Club Zürich</td>\n",
              "    </tr>\n",
              "    <tr>\n",
              "      <th>25977</th>\n",
              "      <td>Lugano</td>\n",
              "      <td>0</td>\n",
              "      <td>FC Zürich</td>\n",
              "      <td>0</td>\n",
              "      <td>None</td>\n",
              "    </tr>\n",
              "    <tr>\n",
              "      <th>25978</th>\n",
              "      <td>BSC Young Boys</td>\n",
              "      <td>4</td>\n",
              "      <td>FC Basel</td>\n",
              "      <td>3</td>\n",
              "      <td>BSC Young Boys</td>\n",
              "    </tr>\n",
              "  </tbody>\n",
              "</table>\n",
              "<p>25979 rows × 5 columns</p>\n",
              "</div>"
            ],
            "text/plain": [
              "                home_team_name  ...        Team_victory_home\n",
              "0                     KRC Genk  ...                     None\n",
              "1             SV Zulte-Waregem  ...                     None\n",
              "2            KSV Cercle Brugge  ...                     None\n",
              "3                     KAA Gent  ...                 KAA Gent\n",
              "4                FCV Dender EH  ...                     None\n",
              "...                        ...  ...                      ...\n",
              "25974            FC St. Gallen  ...            FC St. Gallen\n",
              "25975                 FC Vaduz  ...                     None\n",
              "25976  Grasshopper Club Zürich  ...  Grasshopper Club Zürich\n",
              "25977                   Lugano  ...                     None\n",
              "25978           BSC Young Boys  ...           BSC Young Boys\n",
              "\n",
              "[25979 rows x 5 columns]"
            ]
          },
          "metadata": {
            "tags": []
          },
          "execution_count": 37
        }
      ]
    },
    {
      "cell_type": "code",
      "metadata": {
        "id": "8i4-MeEMu5HJ",
        "colab_type": "code",
        "colab": {
          "base_uri": "https://localhost:8080/",
          "height": 119
        },
        "outputId": "05451b51-3183-4554-96bb-3c6c50715974"
      },
      "source": [
        "# SEPARANDO A COLUNA QUE FILTRA OS TIMES DA CASA VENCEDORES EM UM NOVO DATAFRAME\n",
        "\n",
        "df4 = df3['Team_victory_home']\n",
        "df4.tail()"
      ],
      "execution_count": 57,
      "outputs": [
        {
          "output_type": "execute_result",
          "data": {
            "text/plain": [
              "25974              FC St. Gallen\n",
              "25975                       None\n",
              "25976    Grasshopper Club Zürich\n",
              "25977                       None\n",
              "25978             BSC Young Boys\n",
              "Name: Team_victory_home, dtype: object"
            ]
          },
          "metadata": {
            "tags": []
          },
          "execution_count": 57
        }
      ]
    },
    {
      "cell_type": "code",
      "metadata": {
        "id": "etXHWoiru42G",
        "colab_type": "code",
        "colab": {
          "base_uri": "https://localhost:8080/",
          "height": 221
        },
        "outputId": "21b846fa-ac8c-4520-8532-7fc3f8cb6286"
      },
      "source": [
        "# AGRUPANDO PELOS TIMES DE CASA E SOMANDO O NÚMERO DE VITÓRIAS EM CASA\n",
        "\n",
        "dt_home = df4.value_counts()\n",
        "dt_home"
      ],
      "execution_count": 58,
      "outputs": [
        {
          "output_type": "execute_result",
          "data": {
            "text/plain": [
              "FC Barcelona             131\n",
              "Real Madrid CF           129\n",
              "Celtic                   120\n",
              "Manchester United        116\n",
              "Manchester City          113\n",
              "                        ... \n",
              "SV Darmstadt 98            2\n",
              "DSC Arminia Bielefeld      2\n",
              "AC Arles-Avignon           2\n",
              "Córdoba CF                 1\n",
              "Dunfermline Athletic       1\n",
              "Name: Team_victory_home, Length: 295, dtype: int64"
            ]
          },
          "metadata": {
            "tags": []
          },
          "execution_count": 58
        }
      ]
    },
    {
      "cell_type": "code",
      "metadata": {
        "id": "ltirsql1JoWF",
        "colab_type": "code",
        "colab": {
          "base_uri": "https://localhost:8080/",
          "height": 638
        },
        "outputId": "064c0ded-97da-481b-a756-18ef707c011e"
      },
      "source": [
        "# PEGAMOS UM TIME PARA CONFERIR OS NÚMEROS DA VARIÁVEL E VERIFICAMOS QUE 'BATE'\n",
        "\n",
        "# 'AC Arles-Avignon' - GANHOU DUAS PARTIDA NOS INDEXS 5558 E 5818\n",
        "\n",
        "df2.loc[df2['home_team_name'] == 'AC Arles-Avignon']"
      ],
      "execution_count": 59,
      "outputs": [
        {
          "output_type": "execute_result",
          "data": {
            "text/html": [
              "<div>\n",
              "<style scoped>\n",
              "    .dataframe tbody tr th:only-of-type {\n",
              "        vertical-align: middle;\n",
              "    }\n",
              "\n",
              "    .dataframe tbody tr th {\n",
              "        vertical-align: top;\n",
              "    }\n",
              "\n",
              "    .dataframe thead th {\n",
              "        text-align: right;\n",
              "    }\n",
              "</style>\n",
              "<table border=\"1\" class=\"dataframe\">\n",
              "  <thead>\n",
              "    <tr style=\"text-align: right;\">\n",
              "      <th></th>\n",
              "      <th>season</th>\n",
              "      <th>date1</th>\n",
              "      <th>home_team_name</th>\n",
              "      <th>home_team_goal</th>\n",
              "      <th>away_team_name</th>\n",
              "      <th>away_team_goal</th>\n",
              "    </tr>\n",
              "  </thead>\n",
              "  <tbody>\n",
              "    <tr>\n",
              "      <th>5538</th>\n",
              "      <td>2010/2011</td>\n",
              "      <td>2010-10-24</td>\n",
              "      <td>AC Arles-Avignon</td>\n",
              "      <td>1</td>\n",
              "      <td>Olympique Lyonnais</td>\n",
              "      <td>1</td>\n",
              "    </tr>\n",
              "    <tr>\n",
              "      <th>5558</th>\n",
              "      <td>2010/2011</td>\n",
              "      <td>2010-11-06</td>\n",
              "      <td>AC Arles-Avignon</td>\n",
              "      <td>3</td>\n",
              "      <td>SM Caen</td>\n",
              "      <td>2</td>\n",
              "    </tr>\n",
              "    <tr>\n",
              "      <th>5578</th>\n",
              "      <td>2010/2011</td>\n",
              "      <td>2010-11-21</td>\n",
              "      <td>AC Arles-Avignon</td>\n",
              "      <td>2</td>\n",
              "      <td>Girondins de Bordeaux</td>\n",
              "      <td>4</td>\n",
              "    </tr>\n",
              "    <tr>\n",
              "      <th>5598</th>\n",
              "      <td>2010/2011</td>\n",
              "      <td>2010-12-04</td>\n",
              "      <td>AC Arles-Avignon</td>\n",
              "      <td>1</td>\n",
              "      <td>AS Nancy-Lorraine</td>\n",
              "      <td>1</td>\n",
              "    </tr>\n",
              "    <tr>\n",
              "      <th>5608</th>\n",
              "      <td>2010/2011</td>\n",
              "      <td>2010-12-11</td>\n",
              "      <td>AC Arles-Avignon</td>\n",
              "      <td>0</td>\n",
              "      <td>LOSC Lille</td>\n",
              "      <td>1</td>\n",
              "    </tr>\n",
              "    <tr>\n",
              "      <th>5628</th>\n",
              "      <td>2010/2011</td>\n",
              "      <td>2010-12-22</td>\n",
              "      <td>AC Arles-Avignon</td>\n",
              "      <td>0</td>\n",
              "      <td>OGC Nice</td>\n",
              "      <td>0</td>\n",
              "    </tr>\n",
              "    <tr>\n",
              "      <th>5638</th>\n",
              "      <td>2010/2011</td>\n",
              "      <td>2010-08-14</td>\n",
              "      <td>AC Arles-Avignon</td>\n",
              "      <td>0</td>\n",
              "      <td>RC Lens</td>\n",
              "      <td>1</td>\n",
              "    </tr>\n",
              "    <tr>\n",
              "      <th>5658</th>\n",
              "      <td>2010/2011</td>\n",
              "      <td>2011-01-29</td>\n",
              "      <td>AC Arles-Avignon</td>\n",
              "      <td>1</td>\n",
              "      <td>Paris Saint-Germain</td>\n",
              "      <td>2</td>\n",
              "    </tr>\n",
              "    <tr>\n",
              "      <th>5678</th>\n",
              "      <td>2010/2011</td>\n",
              "      <td>2011-02-12</td>\n",
              "      <td>AC Arles-Avignon</td>\n",
              "      <td>0</td>\n",
              "      <td>Montpellier Hérault SC</td>\n",
              "      <td>0</td>\n",
              "    </tr>\n",
              "    <tr>\n",
              "      <th>5698</th>\n",
              "      <td>2010/2011</td>\n",
              "      <td>2011-02-26</td>\n",
              "      <td>AC Arles-Avignon</td>\n",
              "      <td>1</td>\n",
              "      <td>Stade Brestois 29</td>\n",
              "      <td>1</td>\n",
              "    </tr>\n",
              "    <tr>\n",
              "      <th>5718</th>\n",
              "      <td>2010/2011</td>\n",
              "      <td>2011-03-12</td>\n",
              "      <td>AC Arles-Avignon</td>\n",
              "      <td>3</td>\n",
              "      <td>FC Lorient</td>\n",
              "      <td>3</td>\n",
              "    </tr>\n",
              "    <tr>\n",
              "      <th>5738</th>\n",
              "      <td>2010/2011</td>\n",
              "      <td>2011-04-02</td>\n",
              "      <td>AC Arles-Avignon</td>\n",
              "      <td>0</td>\n",
              "      <td>AS Monaco</td>\n",
              "      <td>2</td>\n",
              "    </tr>\n",
              "    <tr>\n",
              "      <th>5768</th>\n",
              "      <td>2010/2011</td>\n",
              "      <td>2011-04-17</td>\n",
              "      <td>AC Arles-Avignon</td>\n",
              "      <td>0</td>\n",
              "      <td>Valenciennes FC</td>\n",
              "      <td>1</td>\n",
              "    </tr>\n",
              "    <tr>\n",
              "      <th>5798</th>\n",
              "      <td>2010/2011</td>\n",
              "      <td>2011-05-07</td>\n",
              "      <td>AC Arles-Avignon</td>\n",
              "      <td>0</td>\n",
              "      <td>AS Saint-Étienne</td>\n",
              "      <td>1</td>\n",
              "    </tr>\n",
              "    <tr>\n",
              "      <th>5818</th>\n",
              "      <td>2010/2011</td>\n",
              "      <td>2011-05-15</td>\n",
              "      <td>AC Arles-Avignon</td>\n",
              "      <td>1</td>\n",
              "      <td>Toulouse FC</td>\n",
              "      <td>0</td>\n",
              "    </tr>\n",
              "    <tr>\n",
              "      <th>5838</th>\n",
              "      <td>2010/2011</td>\n",
              "      <td>2011-05-29</td>\n",
              "      <td>AC Arles-Avignon</td>\n",
              "      <td>1</td>\n",
              "      <td>FC Sochaux-Montbéliard</td>\n",
              "      <td>3</td>\n",
              "    </tr>\n",
              "    <tr>\n",
              "      <th>5848</th>\n",
              "      <td>2010/2011</td>\n",
              "      <td>2010-08-28</td>\n",
              "      <td>AC Arles-Avignon</td>\n",
              "      <td>0</td>\n",
              "      <td>Stade Rennais FC</td>\n",
              "      <td>1</td>\n",
              "    </tr>\n",
              "    <tr>\n",
              "      <th>5868</th>\n",
              "      <td>2010/2011</td>\n",
              "      <td>2010-09-18</td>\n",
              "      <td>AC Arles-Avignon</td>\n",
              "      <td>0</td>\n",
              "      <td>Olympique de Marseille</td>\n",
              "      <td>3</td>\n",
              "    </tr>\n",
              "    <tr>\n",
              "      <th>5888</th>\n",
              "      <td>2010/2011</td>\n",
              "      <td>2010-10-02</td>\n",
              "      <td>AC Arles-Avignon</td>\n",
              "      <td>0</td>\n",
              "      <td>AJ Auxerre</td>\n",
              "      <td>4</td>\n",
              "    </tr>\n",
              "  </tbody>\n",
              "</table>\n",
              "</div>"
            ],
            "text/plain": [
              "         season       date1  ...          away_team_name  away_team_goal\n",
              "5538  2010/2011  2010-10-24  ...      Olympique Lyonnais               1\n",
              "5558  2010/2011  2010-11-06  ...                 SM Caen               2\n",
              "5578  2010/2011  2010-11-21  ...   Girondins de Bordeaux               4\n",
              "5598  2010/2011  2010-12-04  ...       AS Nancy-Lorraine               1\n",
              "5608  2010/2011  2010-12-11  ...              LOSC Lille               1\n",
              "5628  2010/2011  2010-12-22  ...                OGC Nice               0\n",
              "5638  2010/2011  2010-08-14  ...                 RC Lens               1\n",
              "5658  2010/2011  2011-01-29  ...     Paris Saint-Germain               2\n",
              "5678  2010/2011  2011-02-12  ...  Montpellier Hérault SC               0\n",
              "5698  2010/2011  2011-02-26  ...       Stade Brestois 29               1\n",
              "5718  2010/2011  2011-03-12  ...              FC Lorient               3\n",
              "5738  2010/2011  2011-04-02  ...               AS Monaco               2\n",
              "5768  2010/2011  2011-04-17  ...         Valenciennes FC               1\n",
              "5798  2010/2011  2011-05-07  ...        AS Saint-Étienne               1\n",
              "5818  2010/2011  2011-05-15  ...             Toulouse FC               0\n",
              "5838  2010/2011  2011-05-29  ...  FC Sochaux-Montbéliard               3\n",
              "5848  2010/2011  2010-08-28  ...        Stade Rennais FC               1\n",
              "5868  2010/2011  2010-09-18  ...  Olympique de Marseille               3\n",
              "5888  2010/2011  2010-10-02  ...              AJ Auxerre               4\n",
              "\n",
              "[19 rows x 6 columns]"
            ]
          },
          "metadata": {
            "tags": []
          },
          "execution_count": 59
        }
      ]
    },
    {
      "cell_type": "code",
      "metadata": {
        "id": "KEZdbXUfWguA",
        "colab_type": "code",
        "colab": {}
      },
      "source": [
        "# TRANSFORMANDO EM DATAFRAME\n",
        "\n",
        "dt_home = dt_home.to_frame().reset_index()"
      ],
      "execution_count": 60,
      "outputs": []
    },
    {
      "cell_type": "code",
      "metadata": {
        "id": "9z9DxME-WhIN",
        "colab_type": "code",
        "colab": {
          "base_uri": "https://localhost:8080/",
          "height": 34
        },
        "outputId": "9203df90-af86-4f6f-f869-344a4778ea53"
      },
      "source": [
        "type(dt_home)"
      ],
      "execution_count": 61,
      "outputs": [
        {
          "output_type": "execute_result",
          "data": {
            "text/plain": [
              "pandas.core.frame.DataFrame"
            ]
          },
          "metadata": {
            "tags": []
          },
          "execution_count": 61
        }
      ]
    },
    {
      "cell_type": "code",
      "metadata": {
        "id": "TdXb8rhkW10E",
        "colab_type": "code",
        "colab": {
          "base_uri": "https://localhost:8080/",
          "height": 419
        },
        "outputId": "87588d52-8c1f-43f6-a1e3-9aa10a07d91f"
      },
      "source": [
        "dt_home"
      ],
      "execution_count": 62,
      "outputs": [
        {
          "output_type": "execute_result",
          "data": {
            "text/html": [
              "<div>\n",
              "<style scoped>\n",
              "    .dataframe tbody tr th:only-of-type {\n",
              "        vertical-align: middle;\n",
              "    }\n",
              "\n",
              "    .dataframe tbody tr th {\n",
              "        vertical-align: top;\n",
              "    }\n",
              "\n",
              "    .dataframe thead th {\n",
              "        text-align: right;\n",
              "    }\n",
              "</style>\n",
              "<table border=\"1\" class=\"dataframe\">\n",
              "  <thead>\n",
              "    <tr style=\"text-align: right;\">\n",
              "      <th></th>\n",
              "      <th>index</th>\n",
              "      <th>Team_victory_home</th>\n",
              "    </tr>\n",
              "  </thead>\n",
              "  <tbody>\n",
              "    <tr>\n",
              "      <th>0</th>\n",
              "      <td>FC Barcelona</td>\n",
              "      <td>131</td>\n",
              "    </tr>\n",
              "    <tr>\n",
              "      <th>1</th>\n",
              "      <td>Real Madrid CF</td>\n",
              "      <td>129</td>\n",
              "    </tr>\n",
              "    <tr>\n",
              "      <th>2</th>\n",
              "      <td>Celtic</td>\n",
              "      <td>120</td>\n",
              "    </tr>\n",
              "    <tr>\n",
              "      <th>3</th>\n",
              "      <td>Manchester United</td>\n",
              "      <td>116</td>\n",
              "    </tr>\n",
              "    <tr>\n",
              "      <th>4</th>\n",
              "      <td>Manchester City</td>\n",
              "      <td>113</td>\n",
              "    </tr>\n",
              "    <tr>\n",
              "      <th>...</th>\n",
              "      <td>...</td>\n",
              "      <td>...</td>\n",
              "    </tr>\n",
              "    <tr>\n",
              "      <th>290</th>\n",
              "      <td>SV Darmstadt 98</td>\n",
              "      <td>2</td>\n",
              "    </tr>\n",
              "    <tr>\n",
              "      <th>291</th>\n",
              "      <td>DSC Arminia Bielefeld</td>\n",
              "      <td>2</td>\n",
              "    </tr>\n",
              "    <tr>\n",
              "      <th>292</th>\n",
              "      <td>AC Arles-Avignon</td>\n",
              "      <td>2</td>\n",
              "    </tr>\n",
              "    <tr>\n",
              "      <th>293</th>\n",
              "      <td>Córdoba CF</td>\n",
              "      <td>1</td>\n",
              "    </tr>\n",
              "    <tr>\n",
              "      <th>294</th>\n",
              "      <td>Dunfermline Athletic</td>\n",
              "      <td>1</td>\n",
              "    </tr>\n",
              "  </tbody>\n",
              "</table>\n",
              "<p>295 rows × 2 columns</p>\n",
              "</div>"
            ],
            "text/plain": [
              "                     index  Team_victory_home\n",
              "0             FC Barcelona                131\n",
              "1           Real Madrid CF                129\n",
              "2                   Celtic                120\n",
              "3        Manchester United                116\n",
              "4          Manchester City                113\n",
              "..                     ...                ...\n",
              "290        SV Darmstadt 98                  2\n",
              "291  DSC Arminia Bielefeld                  2\n",
              "292       AC Arles-Avignon                  2\n",
              "293             Córdoba CF                  1\n",
              "294   Dunfermline Athletic                  1\n",
              "\n",
              "[295 rows x 2 columns]"
            ]
          },
          "metadata": {
            "tags": []
          },
          "execution_count": 62
        }
      ]
    },
    {
      "cell_type": "code",
      "metadata": {
        "id": "XGHtJ770WhLg",
        "colab_type": "code",
        "colab": {
          "base_uri": "https://localhost:8080/",
          "height": 419
        },
        "outputId": "9478e7a8-5679-4164-e691-68e5231a270a"
      },
      "source": [
        "# Renomeando a coluna do nome do time e do somatório de partidas ganhas\n",
        "\n",
        "dt_home = dt_home.rename(columns={'index': 'Team_Name', 'Team_victory_home': 'Win_Sum_Home'})\n",
        "dt_home"
      ],
      "execution_count": 63,
      "outputs": [
        {
          "output_type": "execute_result",
          "data": {
            "text/html": [
              "<div>\n",
              "<style scoped>\n",
              "    .dataframe tbody tr th:only-of-type {\n",
              "        vertical-align: middle;\n",
              "    }\n",
              "\n",
              "    .dataframe tbody tr th {\n",
              "        vertical-align: top;\n",
              "    }\n",
              "\n",
              "    .dataframe thead th {\n",
              "        text-align: right;\n",
              "    }\n",
              "</style>\n",
              "<table border=\"1\" class=\"dataframe\">\n",
              "  <thead>\n",
              "    <tr style=\"text-align: right;\">\n",
              "      <th></th>\n",
              "      <th>Team_Name</th>\n",
              "      <th>Win_Sum_Home</th>\n",
              "    </tr>\n",
              "  </thead>\n",
              "  <tbody>\n",
              "    <tr>\n",
              "      <th>0</th>\n",
              "      <td>FC Barcelona</td>\n",
              "      <td>131</td>\n",
              "    </tr>\n",
              "    <tr>\n",
              "      <th>1</th>\n",
              "      <td>Real Madrid CF</td>\n",
              "      <td>129</td>\n",
              "    </tr>\n",
              "    <tr>\n",
              "      <th>2</th>\n",
              "      <td>Celtic</td>\n",
              "      <td>120</td>\n",
              "    </tr>\n",
              "    <tr>\n",
              "      <th>3</th>\n",
              "      <td>Manchester United</td>\n",
              "      <td>116</td>\n",
              "    </tr>\n",
              "    <tr>\n",
              "      <th>4</th>\n",
              "      <td>Manchester City</td>\n",
              "      <td>113</td>\n",
              "    </tr>\n",
              "    <tr>\n",
              "      <th>...</th>\n",
              "      <td>...</td>\n",
              "      <td>...</td>\n",
              "    </tr>\n",
              "    <tr>\n",
              "      <th>290</th>\n",
              "      <td>SV Darmstadt 98</td>\n",
              "      <td>2</td>\n",
              "    </tr>\n",
              "    <tr>\n",
              "      <th>291</th>\n",
              "      <td>DSC Arminia Bielefeld</td>\n",
              "      <td>2</td>\n",
              "    </tr>\n",
              "    <tr>\n",
              "      <th>292</th>\n",
              "      <td>AC Arles-Avignon</td>\n",
              "      <td>2</td>\n",
              "    </tr>\n",
              "    <tr>\n",
              "      <th>293</th>\n",
              "      <td>Córdoba CF</td>\n",
              "      <td>1</td>\n",
              "    </tr>\n",
              "    <tr>\n",
              "      <th>294</th>\n",
              "      <td>Dunfermline Athletic</td>\n",
              "      <td>1</td>\n",
              "    </tr>\n",
              "  </tbody>\n",
              "</table>\n",
              "<p>295 rows × 2 columns</p>\n",
              "</div>"
            ],
            "text/plain": [
              "                 Team_Name  Win_Sum_Home\n",
              "0             FC Barcelona           131\n",
              "1           Real Madrid CF           129\n",
              "2                   Celtic           120\n",
              "3        Manchester United           116\n",
              "4          Manchester City           113\n",
              "..                     ...           ...\n",
              "290        SV Darmstadt 98             2\n",
              "291  DSC Arminia Bielefeld             2\n",
              "292       AC Arles-Avignon             2\n",
              "293             Córdoba CF             1\n",
              "294   Dunfermline Athletic             1\n",
              "\n",
              "[295 rows x 2 columns]"
            ]
          },
          "metadata": {
            "tags": []
          },
          "execution_count": 63
        }
      ]
    },
    {
      "cell_type": "code",
      "metadata": {
        "id": "LX_89lPCWhPC",
        "colab_type": "code",
        "colab": {
          "base_uri": "https://localhost:8080/",
          "height": 419
        },
        "outputId": "37c86c65-557c-4a84-f9f7-9adcc6363a7a"
      },
      "source": [
        "# ORGANIZANDO EM ORDEM ALFABÉTICA\n",
        "\n",
        "dt_home.sort_values('Team_Name')"
      ],
      "execution_count": 64,
      "outputs": [
        {
          "output_type": "execute_result",
          "data": {
            "text/html": [
              "<div>\n",
              "<style scoped>\n",
              "    .dataframe tbody tr th:only-of-type {\n",
              "        vertical-align: middle;\n",
              "    }\n",
              "\n",
              "    .dataframe tbody tr th {\n",
              "        vertical-align: top;\n",
              "    }\n",
              "\n",
              "    .dataframe thead th {\n",
              "        text-align: right;\n",
              "    }\n",
              "</style>\n",
              "<table border=\"1\" class=\"dataframe\">\n",
              "  <thead>\n",
              "    <tr style=\"text-align: right;\">\n",
              "      <th></th>\n",
              "      <th>Team_Name</th>\n",
              "      <th>Win_Sum_Home</th>\n",
              "    </tr>\n",
              "  </thead>\n",
              "  <tbody>\n",
              "    <tr>\n",
              "      <th>243</th>\n",
              "      <td>1. FC Kaiserslautern</td>\n",
              "      <td>8</td>\n",
              "    </tr>\n",
              "    <tr>\n",
              "      <th>153</th>\n",
              "      <td>1. FC Köln</td>\n",
              "      <td>32</td>\n",
              "    </tr>\n",
              "    <tr>\n",
              "      <th>165</th>\n",
              "      <td>1. FC Nürnberg</td>\n",
              "      <td>30</td>\n",
              "    </tr>\n",
              "    <tr>\n",
              "      <th>92</th>\n",
              "      <td>1. FSV Mainz 05</td>\n",
              "      <td>55</td>\n",
              "    </tr>\n",
              "    <tr>\n",
              "      <th>205</th>\n",
              "      <td>AC Ajaccio</td>\n",
              "      <td>16</td>\n",
              "    </tr>\n",
              "    <tr>\n",
              "      <th>...</th>\n",
              "      <td>...</td>\n",
              "      <td>...</td>\n",
              "    </tr>\n",
              "    <tr>\n",
              "      <th>263</th>\n",
              "      <td>Xerez Club Deportivo</td>\n",
              "      <td>6</td>\n",
              "    </tr>\n",
              "    <tr>\n",
              "      <th>146</th>\n",
              "      <td>Zagłębie Lubin</td>\n",
              "      <td>35</td>\n",
              "    </tr>\n",
              "    <tr>\n",
              "      <th>219</th>\n",
              "      <td>Zawisza Bydgoszcz</td>\n",
              "      <td>13</td>\n",
              "    </tr>\n",
              "    <tr>\n",
              "      <th>169</th>\n",
              "      <td>Évian Thonon Gaillard FC</td>\n",
              "      <td>29</td>\n",
              "    </tr>\n",
              "    <tr>\n",
              "      <th>81</th>\n",
              "      <td>Śląsk Wrocław</td>\n",
              "      <td>59</td>\n",
              "    </tr>\n",
              "  </tbody>\n",
              "</table>\n",
              "<p>295 rows × 2 columns</p>\n",
              "</div>"
            ],
            "text/plain": [
              "                    Team_Name  Win_Sum_Home\n",
              "243      1. FC Kaiserslautern             8\n",
              "153                1. FC Köln            32\n",
              "165            1. FC Nürnberg            30\n",
              "92            1. FSV Mainz 05            55\n",
              "205                AC Ajaccio            16\n",
              "..                        ...           ...\n",
              "263      Xerez Club Deportivo             6\n",
              "146            Zagłębie Lubin            35\n",
              "219         Zawisza Bydgoszcz            13\n",
              "169  Évian Thonon Gaillard FC            29\n",
              "81              Śląsk Wrocław            59\n",
              "\n",
              "[295 rows x 2 columns]"
            ]
          },
          "metadata": {
            "tags": []
          },
          "execution_count": 64
        }
      ]
    },
    {
      "cell_type": "markdown",
      "metadata": {
        "colab_type": "text",
        "id": "Khkq0fdTxCbY"
      },
      "source": [
        "#### Uma segunda variável irá representar se o time visitante ganhou"
      ]
    },
    {
      "cell_type": "code",
      "metadata": {
        "id": "xlQX2u6nE7lk",
        "colab_type": "code",
        "colab": {
          "base_uri": "https://localhost:8080/",
          "height": 419
        },
        "outputId": "30ddb317-9a5a-4b9f-b04d-c3f11c04ef7a"
      },
      "source": [
        "# CRIANDO UMA OUTRA VARIÁVEL QUE REPRESENTA SE O TIME VISITANTE GANHOU\n",
        "\n",
        "result=[]\n",
        "\n",
        "for i in range(len(df3)):\n",
        "  if df3.iloc[i, 1] < df3.iloc[i, 3]:\n",
        "        result.append(df3.iloc[i,2])\n",
        "  elif df3.iloc[i, 1] > df3.iloc[i, 3]:\n",
        "        result.append(None)\n",
        "  else:    \n",
        "        result.append(None)\n",
        "    \n",
        "df3['Team_victory_away'] = result\n",
        "\n",
        "df3"
      ],
      "execution_count": 65,
      "outputs": [
        {
          "output_type": "execute_result",
          "data": {
            "text/html": [
              "<div>\n",
              "<style scoped>\n",
              "    .dataframe tbody tr th:only-of-type {\n",
              "        vertical-align: middle;\n",
              "    }\n",
              "\n",
              "    .dataframe tbody tr th {\n",
              "        vertical-align: top;\n",
              "    }\n",
              "\n",
              "    .dataframe thead th {\n",
              "        text-align: right;\n",
              "    }\n",
              "</style>\n",
              "<table border=\"1\" class=\"dataframe\">\n",
              "  <thead>\n",
              "    <tr style=\"text-align: right;\">\n",
              "      <th></th>\n",
              "      <th>home_team_name</th>\n",
              "      <th>home_team_goal</th>\n",
              "      <th>away_team_name</th>\n",
              "      <th>away_team_goal</th>\n",
              "      <th>Team_victory_home</th>\n",
              "      <th>Team_victory_away</th>\n",
              "    </tr>\n",
              "  </thead>\n",
              "  <tbody>\n",
              "    <tr>\n",
              "      <th>0</th>\n",
              "      <td>KRC Genk</td>\n",
              "      <td>1</td>\n",
              "      <td>Beerschot AC</td>\n",
              "      <td>1</td>\n",
              "      <td>None</td>\n",
              "      <td>None</td>\n",
              "    </tr>\n",
              "    <tr>\n",
              "      <th>1</th>\n",
              "      <td>SV Zulte-Waregem</td>\n",
              "      <td>0</td>\n",
              "      <td>Sporting Lokeren</td>\n",
              "      <td>0</td>\n",
              "      <td>None</td>\n",
              "      <td>None</td>\n",
              "    </tr>\n",
              "    <tr>\n",
              "      <th>2</th>\n",
              "      <td>KSV Cercle Brugge</td>\n",
              "      <td>0</td>\n",
              "      <td>RSC Anderlecht</td>\n",
              "      <td>3</td>\n",
              "      <td>None</td>\n",
              "      <td>RSC Anderlecht</td>\n",
              "    </tr>\n",
              "    <tr>\n",
              "      <th>3</th>\n",
              "      <td>KAA Gent</td>\n",
              "      <td>5</td>\n",
              "      <td>RAEC Mons</td>\n",
              "      <td>0</td>\n",
              "      <td>KAA Gent</td>\n",
              "      <td>None</td>\n",
              "    </tr>\n",
              "    <tr>\n",
              "      <th>4</th>\n",
              "      <td>FCV Dender EH</td>\n",
              "      <td>1</td>\n",
              "      <td>Standard de Liège</td>\n",
              "      <td>3</td>\n",
              "      <td>None</td>\n",
              "      <td>Standard de Liège</td>\n",
              "    </tr>\n",
              "    <tr>\n",
              "      <th>...</th>\n",
              "      <td>...</td>\n",
              "      <td>...</td>\n",
              "      <td>...</td>\n",
              "      <td>...</td>\n",
              "      <td>...</td>\n",
              "      <td>...</td>\n",
              "    </tr>\n",
              "    <tr>\n",
              "      <th>25974</th>\n",
              "      <td>FC St. Gallen</td>\n",
              "      <td>1</td>\n",
              "      <td>FC Thun</td>\n",
              "      <td>0</td>\n",
              "      <td>FC St. Gallen</td>\n",
              "      <td>None</td>\n",
              "    </tr>\n",
              "    <tr>\n",
              "      <th>25975</th>\n",
              "      <td>FC Vaduz</td>\n",
              "      <td>1</td>\n",
              "      <td>FC Luzern</td>\n",
              "      <td>2</td>\n",
              "      <td>None</td>\n",
              "      <td>FC Luzern</td>\n",
              "    </tr>\n",
              "    <tr>\n",
              "      <th>25976</th>\n",
              "      <td>Grasshopper Club Zürich</td>\n",
              "      <td>2</td>\n",
              "      <td>FC Sion</td>\n",
              "      <td>0</td>\n",
              "      <td>Grasshopper Club Zürich</td>\n",
              "      <td>None</td>\n",
              "    </tr>\n",
              "    <tr>\n",
              "      <th>25977</th>\n",
              "      <td>Lugano</td>\n",
              "      <td>0</td>\n",
              "      <td>FC Zürich</td>\n",
              "      <td>0</td>\n",
              "      <td>None</td>\n",
              "      <td>None</td>\n",
              "    </tr>\n",
              "    <tr>\n",
              "      <th>25978</th>\n",
              "      <td>BSC Young Boys</td>\n",
              "      <td>4</td>\n",
              "      <td>FC Basel</td>\n",
              "      <td>3</td>\n",
              "      <td>BSC Young Boys</td>\n",
              "      <td>None</td>\n",
              "    </tr>\n",
              "  </tbody>\n",
              "</table>\n",
              "<p>25979 rows × 6 columns</p>\n",
              "</div>"
            ],
            "text/plain": [
              "                home_team_name  ...  Team_victory_away\n",
              "0                     KRC Genk  ...               None\n",
              "1             SV Zulte-Waregem  ...               None\n",
              "2            KSV Cercle Brugge  ...     RSC Anderlecht\n",
              "3                     KAA Gent  ...               None\n",
              "4                FCV Dender EH  ...  Standard de Liège\n",
              "...                        ...  ...                ...\n",
              "25974            FC St. Gallen  ...               None\n",
              "25975                 FC Vaduz  ...          FC Luzern\n",
              "25976  Grasshopper Club Zürich  ...               None\n",
              "25977                   Lugano  ...               None\n",
              "25978           BSC Young Boys  ...               None\n",
              "\n",
              "[25979 rows x 6 columns]"
            ]
          },
          "metadata": {
            "tags": []
          },
          "execution_count": 65
        }
      ]
    },
    {
      "cell_type": "code",
      "metadata": {
        "id": "TtX7f4TXE76p",
        "colab_type": "code",
        "colab": {
          "base_uri": "https://localhost:8080/",
          "height": 119
        },
        "outputId": "b6acf0e7-7bb0-4394-fcf7-af76e4186a43"
      },
      "source": [
        "# SEPARANDO A COLUNA QUE FILTRA OS TIMES VENCEDORES EM UM NOVO DATAFRAME\n",
        "\n",
        "df5 = df3['Team_victory_away']\n",
        "df5.tail()"
      ],
      "execution_count": 66,
      "outputs": [
        {
          "output_type": "execute_result",
          "data": {
            "text/plain": [
              "25974         None\n",
              "25975    FC Luzern\n",
              "25976         None\n",
              "25977         None\n",
              "25978         None\n",
              "Name: Team_victory_away, dtype: object"
            ]
          },
          "metadata": {
            "tags": []
          },
          "execution_count": 66
        }
      ]
    },
    {
      "cell_type": "code",
      "metadata": {
        "id": "F0h9Fk3fE8Hn",
        "colab_type": "code",
        "colab": {
          "base_uri": "https://localhost:8080/",
          "height": 204
        },
        "outputId": "08535ae1-dbc6-4be0-acec-2cbea16dc4fc"
      },
      "source": [
        "# AGRUPANDO PELOS TIMES DE FORA E SOMANDO O NÚMERO DE VITÓRIAS FORA DE CASA\n",
        "\n",
        "dt_away = df5.value_counts()\n",
        "dt_away.tail(10)\n"
      ],
      "execution_count": 67,
      "outputs": [
        {
          "output_type": "execute_result",
          "data": {
            "text/plain": [
              "Eintracht Braunschweig    1\n",
              "CD Numancia               1\n",
              "Amadora                   1\n",
              "FC Dordrecht              1\n",
              "AC Arles-Avignon          1\n",
              "FC Metz                   1\n",
              "Brescia                   1\n",
              "FC Volendam               1\n",
              "Uniao da Madeira          1\n",
              "CD Tenerife               1\n",
              "Name: Team_victory_away, dtype: int64"
            ]
          },
          "metadata": {
            "tags": []
          },
          "execution_count": 67
        }
      ]
    },
    {
      "cell_type": "code",
      "metadata": {
        "id": "MqjfJT9sE8WM",
        "colab_type": "code",
        "colab": {
          "base_uri": "https://localhost:8080/",
          "height": 638
        },
        "outputId": "9f2077a7-4ae3-4e35-a0e3-2c78902900b9"
      },
      "source": [
        "# PEGAMOS NOVAMENTE UM TIMES PARA CONFERIR OS NÚMEROS DA VARIÁVEL E VERIFICAMOS QUE 'BATE'\n",
        "\n",
        "# CONFERINDO 'Brescia' - GANHOU UMA PARTIDA NO INDEX 11243\n",
        "\n",
        "df2.loc[df2['away_team_name'] == 'Brescia']"
      ],
      "execution_count": 68,
      "outputs": [
        {
          "output_type": "execute_result",
          "data": {
            "text/html": [
              "<div>\n",
              "<style scoped>\n",
              "    .dataframe tbody tr th:only-of-type {\n",
              "        vertical-align: middle;\n",
              "    }\n",
              "\n",
              "    .dataframe tbody tr th {\n",
              "        vertical-align: top;\n",
              "    }\n",
              "\n",
              "    .dataframe thead th {\n",
              "        text-align: right;\n",
              "    }\n",
              "</style>\n",
              "<table border=\"1\" class=\"dataframe\">\n",
              "  <thead>\n",
              "    <tr style=\"text-align: right;\">\n",
              "      <th></th>\n",
              "      <th>season</th>\n",
              "      <th>date1</th>\n",
              "      <th>home_team_name</th>\n",
              "      <th>home_team_goal</th>\n",
              "      <th>away_team_name</th>\n",
              "      <th>away_team_goal</th>\n",
              "    </tr>\n",
              "  </thead>\n",
              "  <tbody>\n",
              "    <tr>\n",
              "      <th>11021</th>\n",
              "      <td>2010/2011</td>\n",
              "      <td>2010-08-29</td>\n",
              "      <td>Parma</td>\n",
              "      <td>2</td>\n",
              "      <td>Brescia</td>\n",
              "      <td>0</td>\n",
              "    </tr>\n",
              "    <tr>\n",
              "      <th>11032</th>\n",
              "      <td>2010/2011</td>\n",
              "      <td>2010-11-06</td>\n",
              "      <td>Inter</td>\n",
              "      <td>1</td>\n",
              "      <td>Brescia</td>\n",
              "      <td>1</td>\n",
              "    </tr>\n",
              "    <tr>\n",
              "      <th>11052</th>\n",
              "      <td>2010/2011</td>\n",
              "      <td>2010-11-14</td>\n",
              "      <td>Bologna</td>\n",
              "      <td>1</td>\n",
              "      <td>Brescia</td>\n",
              "      <td>0</td>\n",
              "    </tr>\n",
              "    <tr>\n",
              "      <th>11078</th>\n",
              "      <td>2010/2011</td>\n",
              "      <td>2010-12-04</td>\n",
              "      <td>Milan</td>\n",
              "      <td>3</td>\n",
              "      <td>Brescia</td>\n",
              "      <td>0</td>\n",
              "    </tr>\n",
              "    <tr>\n",
              "      <th>11096</th>\n",
              "      <td>2010/2011</td>\n",
              "      <td>2010-12-19</td>\n",
              "      <td>Catania</td>\n",
              "      <td>1</td>\n",
              "      <td>Brescia</td>\n",
              "      <td>0</td>\n",
              "    </tr>\n",
              "    <tr>\n",
              "      <th>11125</th>\n",
              "      <td>2010/2011</td>\n",
              "      <td>2011-01-09</td>\n",
              "      <td>Fiorentina</td>\n",
              "      <td>3</td>\n",
              "      <td>Brescia</td>\n",
              "      <td>2</td>\n",
              "    </tr>\n",
              "    <tr>\n",
              "      <th>11150</th>\n",
              "      <td>2010/2011</td>\n",
              "      <td>2011-01-22</td>\n",
              "      <td>Palermo</td>\n",
              "      <td>1</td>\n",
              "      <td>Brescia</td>\n",
              "      <td>0</td>\n",
              "    </tr>\n",
              "    <tr>\n",
              "      <th>11168</th>\n",
              "      <td>2010/2011</td>\n",
              "      <td>2011-02-02</td>\n",
              "      <td>Roma</td>\n",
              "      <td>1</td>\n",
              "      <td>Brescia</td>\n",
              "      <td>1</td>\n",
              "    </tr>\n",
              "    <tr>\n",
              "      <th>11196</th>\n",
              "      <td>2010/2011</td>\n",
              "      <td>2011-02-20</td>\n",
              "      <td>Udinese</td>\n",
              "      <td>0</td>\n",
              "      <td>Brescia</td>\n",
              "      <td>0</td>\n",
              "    </tr>\n",
              "    <tr>\n",
              "      <th>11224</th>\n",
              "      <td>2010/2011</td>\n",
              "      <td>2011-03-06</td>\n",
              "      <td>Napoli</td>\n",
              "      <td>0</td>\n",
              "      <td>Brescia</td>\n",
              "      <td>0</td>\n",
              "    </tr>\n",
              "    <tr>\n",
              "      <th>11243</th>\n",
              "      <td>2010/2011</td>\n",
              "      <td>2010-09-19</td>\n",
              "      <td>Chievo Verona</td>\n",
              "      <td>0</td>\n",
              "      <td>Brescia</td>\n",
              "      <td>1</td>\n",
              "    </tr>\n",
              "    <tr>\n",
              "      <th>11249</th>\n",
              "      <td>2010/2011</td>\n",
              "      <td>2011-03-20</td>\n",
              "      <td>Juventus</td>\n",
              "      <td>2</td>\n",
              "      <td>Brescia</td>\n",
              "      <td>1</td>\n",
              "    </tr>\n",
              "    <tr>\n",
              "      <th>11274</th>\n",
              "      <td>2010/2011</td>\n",
              "      <td>2011-04-10</td>\n",
              "      <td>Cagliari</td>\n",
              "      <td>1</td>\n",
              "      <td>Brescia</td>\n",
              "      <td>1</td>\n",
              "    </tr>\n",
              "    <tr>\n",
              "      <th>11278</th>\n",
              "      <td>2010/2011</td>\n",
              "      <td>2011-04-17</td>\n",
              "      <td>Genoa</td>\n",
              "      <td>3</td>\n",
              "      <td>Brescia</td>\n",
              "      <td>0</td>\n",
              "    </tr>\n",
              "    <tr>\n",
              "      <th>11300</th>\n",
              "      <td>2010/2011</td>\n",
              "      <td>2011-05-01</td>\n",
              "      <td>Sampdoria</td>\n",
              "      <td>3</td>\n",
              "      <td>Brescia</td>\n",
              "      <td>3</td>\n",
              "    </tr>\n",
              "    <tr>\n",
              "      <th>11322</th>\n",
              "      <td>2010/2011</td>\n",
              "      <td>2011-05-15</td>\n",
              "      <td>Cesena</td>\n",
              "      <td>1</td>\n",
              "      <td>Brescia</td>\n",
              "      <td>0</td>\n",
              "    </tr>\n",
              "    <tr>\n",
              "      <th>11355</th>\n",
              "      <td>2010/2011</td>\n",
              "      <td>2010-09-26</td>\n",
              "      <td>Bari</td>\n",
              "      <td>2</td>\n",
              "      <td>Brescia</td>\n",
              "      <td>1</td>\n",
              "    </tr>\n",
              "    <tr>\n",
              "      <th>11360</th>\n",
              "      <td>2010/2011</td>\n",
              "      <td>2010-10-03</td>\n",
              "      <td>Lazio</td>\n",
              "      <td>1</td>\n",
              "      <td>Brescia</td>\n",
              "      <td>0</td>\n",
              "    </tr>\n",
              "    <tr>\n",
              "      <th>11380</th>\n",
              "      <td>2010/2011</td>\n",
              "      <td>2010-10-24</td>\n",
              "      <td>Lecce</td>\n",
              "      <td>2</td>\n",
              "      <td>Brescia</td>\n",
              "      <td>1</td>\n",
              "    </tr>\n",
              "  </tbody>\n",
              "</table>\n",
              "</div>"
            ],
            "text/plain": [
              "          season       date1  ... away_team_name  away_team_goal\n",
              "11021  2010/2011  2010-08-29  ...        Brescia               0\n",
              "11032  2010/2011  2010-11-06  ...        Brescia               1\n",
              "11052  2010/2011  2010-11-14  ...        Brescia               0\n",
              "11078  2010/2011  2010-12-04  ...        Brescia               0\n",
              "11096  2010/2011  2010-12-19  ...        Brescia               0\n",
              "11125  2010/2011  2011-01-09  ...        Brescia               2\n",
              "11150  2010/2011  2011-01-22  ...        Brescia               0\n",
              "11168  2010/2011  2011-02-02  ...        Brescia               1\n",
              "11196  2010/2011  2011-02-20  ...        Brescia               0\n",
              "11224  2010/2011  2011-03-06  ...        Brescia               0\n",
              "11243  2010/2011  2010-09-19  ...        Brescia               1\n",
              "11249  2010/2011  2011-03-20  ...        Brescia               1\n",
              "11274  2010/2011  2011-04-10  ...        Brescia               1\n",
              "11278  2010/2011  2011-04-17  ...        Brescia               0\n",
              "11300  2010/2011  2011-05-01  ...        Brescia               3\n",
              "11322  2010/2011  2011-05-15  ...        Brescia               0\n",
              "11355  2010/2011  2010-09-26  ...        Brescia               1\n",
              "11360  2010/2011  2010-10-03  ...        Brescia               0\n",
              "11380  2010/2011  2010-10-24  ...        Brescia               1\n",
              "\n",
              "[19 rows x 6 columns]"
            ]
          },
          "metadata": {
            "tags": []
          },
          "execution_count": 68
        }
      ]
    },
    {
      "cell_type": "code",
      "metadata": {
        "id": "uKgamtlERLCO",
        "colab_type": "code",
        "colab": {}
      },
      "source": [
        "# TRANSFORMANDO EM DATAFRAME\n",
        "\n",
        "dt_away = dt_away.to_frame().reset_index()"
      ],
      "execution_count": 69,
      "outputs": []
    },
    {
      "cell_type": "code",
      "metadata": {
        "id": "ANwBJA88Tj6k",
        "colab_type": "code",
        "colab": {
          "base_uri": "https://localhost:8080/",
          "height": 34
        },
        "outputId": "c05ee2ab-0e9e-4aff-c907-a2f61ef05fcd"
      },
      "source": [
        "type(dt_away)"
      ],
      "execution_count": 70,
      "outputs": [
        {
          "output_type": "execute_result",
          "data": {
            "text/plain": [
              "pandas.core.frame.DataFrame"
            ]
          },
          "metadata": {
            "tags": []
          },
          "execution_count": 70
        }
      ]
    },
    {
      "cell_type": "code",
      "metadata": {
        "id": "6jMdqZc5Xu8q",
        "colab_type": "code",
        "colab": {
          "base_uri": "https://localhost:8080/",
          "height": 419
        },
        "outputId": "891c27e0-08c7-4d64-d0ef-0692c8e88407"
      },
      "source": [
        "dt_away"
      ],
      "execution_count": 71,
      "outputs": [
        {
          "output_type": "execute_result",
          "data": {
            "text/html": [
              "<div>\n",
              "<style scoped>\n",
              "    .dataframe tbody tr th:only-of-type {\n",
              "        vertical-align: middle;\n",
              "    }\n",
              "\n",
              "    .dataframe tbody tr th {\n",
              "        vertical-align: top;\n",
              "    }\n",
              "\n",
              "    .dataframe thead th {\n",
              "        text-align: right;\n",
              "    }\n",
              "</style>\n",
              "<table border=\"1\" class=\"dataframe\">\n",
              "  <thead>\n",
              "    <tr style=\"text-align: right;\">\n",
              "      <th></th>\n",
              "      <th>index</th>\n",
              "      <th>Team_victory_away</th>\n",
              "    </tr>\n",
              "  </thead>\n",
              "  <tbody>\n",
              "    <tr>\n",
              "      <th>0</th>\n",
              "      <td>FC Barcelona</td>\n",
              "      <td>103</td>\n",
              "    </tr>\n",
              "    <tr>\n",
              "      <th>1</th>\n",
              "      <td>Real Madrid CF</td>\n",
              "      <td>99</td>\n",
              "    </tr>\n",
              "    <tr>\n",
              "      <th>2</th>\n",
              "      <td>Celtic</td>\n",
              "      <td>98</td>\n",
              "    </tr>\n",
              "    <tr>\n",
              "      <th>3</th>\n",
              "      <td>FC Bayern Munich</td>\n",
              "      <td>84</td>\n",
              "    </tr>\n",
              "    <tr>\n",
              "      <th>4</th>\n",
              "      <td>Juventus</td>\n",
              "      <td>84</td>\n",
              "    </tr>\n",
              "    <tr>\n",
              "      <th>...</th>\n",
              "      <td>...</td>\n",
              "      <td>...</td>\n",
              "    </tr>\n",
              "    <tr>\n",
              "      <th>291</th>\n",
              "      <td>FC Metz</td>\n",
              "      <td>1</td>\n",
              "    </tr>\n",
              "    <tr>\n",
              "      <th>292</th>\n",
              "      <td>Brescia</td>\n",
              "      <td>1</td>\n",
              "    </tr>\n",
              "    <tr>\n",
              "      <th>293</th>\n",
              "      <td>FC Volendam</td>\n",
              "      <td>1</td>\n",
              "    </tr>\n",
              "    <tr>\n",
              "      <th>294</th>\n",
              "      <td>Uniao da Madeira</td>\n",
              "      <td>1</td>\n",
              "    </tr>\n",
              "    <tr>\n",
              "      <th>295</th>\n",
              "      <td>CD Tenerife</td>\n",
              "      <td>1</td>\n",
              "    </tr>\n",
              "  </tbody>\n",
              "</table>\n",
              "<p>296 rows × 2 columns</p>\n",
              "</div>"
            ],
            "text/plain": [
              "                index  Team_victory_away\n",
              "0        FC Barcelona                103\n",
              "1      Real Madrid CF                 99\n",
              "2              Celtic                 98\n",
              "3    FC Bayern Munich                 84\n",
              "4            Juventus                 84\n",
              "..                ...                ...\n",
              "291           FC Metz                  1\n",
              "292           Brescia                  1\n",
              "293       FC Volendam                  1\n",
              "294  Uniao da Madeira                  1\n",
              "295       CD Tenerife                  1\n",
              "\n",
              "[296 rows x 2 columns]"
            ]
          },
          "metadata": {
            "tags": []
          },
          "execution_count": 71
        }
      ]
    },
    {
      "cell_type": "code",
      "metadata": {
        "id": "fL2ewKAPE8Ar",
        "colab_type": "code",
        "colab": {
          "base_uri": "https://localhost:8080/",
          "height": 419
        },
        "outputId": "37812fc2-3c95-443c-96e7-edfcbef4c209"
      },
      "source": [
        "# Renomeando a coluna do nome do time e do somatório de gols\n",
        "\n",
        "dt_away = dt_away.rename(columns={'index': 'Team_Name', 'Team_victory_away': 'Win_Sum_Away'})\n",
        "dt_away"
      ],
      "execution_count": 72,
      "outputs": [
        {
          "output_type": "execute_result",
          "data": {
            "text/html": [
              "<div>\n",
              "<style scoped>\n",
              "    .dataframe tbody tr th:only-of-type {\n",
              "        vertical-align: middle;\n",
              "    }\n",
              "\n",
              "    .dataframe tbody tr th {\n",
              "        vertical-align: top;\n",
              "    }\n",
              "\n",
              "    .dataframe thead th {\n",
              "        text-align: right;\n",
              "    }\n",
              "</style>\n",
              "<table border=\"1\" class=\"dataframe\">\n",
              "  <thead>\n",
              "    <tr style=\"text-align: right;\">\n",
              "      <th></th>\n",
              "      <th>Team_Name</th>\n",
              "      <th>Win_Sum_Away</th>\n",
              "    </tr>\n",
              "  </thead>\n",
              "  <tbody>\n",
              "    <tr>\n",
              "      <th>0</th>\n",
              "      <td>FC Barcelona</td>\n",
              "      <td>103</td>\n",
              "    </tr>\n",
              "    <tr>\n",
              "      <th>1</th>\n",
              "      <td>Real Madrid CF</td>\n",
              "      <td>99</td>\n",
              "    </tr>\n",
              "    <tr>\n",
              "      <th>2</th>\n",
              "      <td>Celtic</td>\n",
              "      <td>98</td>\n",
              "    </tr>\n",
              "    <tr>\n",
              "      <th>3</th>\n",
              "      <td>FC Bayern Munich</td>\n",
              "      <td>84</td>\n",
              "    </tr>\n",
              "    <tr>\n",
              "      <th>4</th>\n",
              "      <td>Juventus</td>\n",
              "      <td>84</td>\n",
              "    </tr>\n",
              "    <tr>\n",
              "      <th>...</th>\n",
              "      <td>...</td>\n",
              "      <td>...</td>\n",
              "    </tr>\n",
              "    <tr>\n",
              "      <th>291</th>\n",
              "      <td>FC Metz</td>\n",
              "      <td>1</td>\n",
              "    </tr>\n",
              "    <tr>\n",
              "      <th>292</th>\n",
              "      <td>Brescia</td>\n",
              "      <td>1</td>\n",
              "    </tr>\n",
              "    <tr>\n",
              "      <th>293</th>\n",
              "      <td>FC Volendam</td>\n",
              "      <td>1</td>\n",
              "    </tr>\n",
              "    <tr>\n",
              "      <th>294</th>\n",
              "      <td>Uniao da Madeira</td>\n",
              "      <td>1</td>\n",
              "    </tr>\n",
              "    <tr>\n",
              "      <th>295</th>\n",
              "      <td>CD Tenerife</td>\n",
              "      <td>1</td>\n",
              "    </tr>\n",
              "  </tbody>\n",
              "</table>\n",
              "<p>296 rows × 2 columns</p>\n",
              "</div>"
            ],
            "text/plain": [
              "            Team_Name  Win_Sum_Away\n",
              "0        FC Barcelona           103\n",
              "1      Real Madrid CF            99\n",
              "2              Celtic            98\n",
              "3    FC Bayern Munich            84\n",
              "4            Juventus            84\n",
              "..                ...           ...\n",
              "291           FC Metz             1\n",
              "292           Brescia             1\n",
              "293       FC Volendam             1\n",
              "294  Uniao da Madeira             1\n",
              "295       CD Tenerife             1\n",
              "\n",
              "[296 rows x 2 columns]"
            ]
          },
          "metadata": {
            "tags": []
          },
          "execution_count": 72
        }
      ]
    },
    {
      "cell_type": "code",
      "metadata": {
        "id": "Cg7qAnGaE7yF",
        "colab_type": "code",
        "colab": {
          "base_uri": "https://localhost:8080/",
          "height": 419
        },
        "outputId": "7084aa8d-5550-4e3f-874b-a36b44d2d633"
      },
      "source": [
        "# ORGANIZANDO EM ORDEM ALFABÉTICA\n",
        "\n",
        "dt_away.sort_values('Team_Name')"
      ],
      "execution_count": 74,
      "outputs": [
        {
          "output_type": "execute_result",
          "data": {
            "text/html": [
              "<div>\n",
              "<style scoped>\n",
              "    .dataframe tbody tr th:only-of-type {\n",
              "        vertical-align: middle;\n",
              "    }\n",
              "\n",
              "    .dataframe tbody tr th {\n",
              "        vertical-align: top;\n",
              "    }\n",
              "\n",
              "    .dataframe thead th {\n",
              "        text-align: right;\n",
              "    }\n",
              "</style>\n",
              "<table border=\"1\" class=\"dataframe\">\n",
              "  <thead>\n",
              "    <tr style=\"text-align: right;\">\n",
              "      <th></th>\n",
              "      <th>Team_Name</th>\n",
              "      <th>Win_Sum_Away</th>\n",
              "    </tr>\n",
              "  </thead>\n",
              "  <tbody>\n",
              "    <tr>\n",
              "      <th>207</th>\n",
              "      <td>1. FC Kaiserslautern</td>\n",
              "      <td>9</td>\n",
              "    </tr>\n",
              "    <tr>\n",
              "      <th>108</th>\n",
              "      <td>1. FC Köln</td>\n",
              "      <td>28</td>\n",
              "    </tr>\n",
              "    <tr>\n",
              "      <th>156</th>\n",
              "      <td>1. FC Nürnberg</td>\n",
              "      <td>19</td>\n",
              "    </tr>\n",
              "    <tr>\n",
              "      <th>86</th>\n",
              "      <td>1. FSV Mainz 05</td>\n",
              "      <td>33</td>\n",
              "    </tr>\n",
              "    <tr>\n",
              "      <th>232</th>\n",
              "      <td>AC Ajaccio</td>\n",
              "      <td>6</td>\n",
              "    </tr>\n",
              "    <tr>\n",
              "      <th>...</th>\n",
              "      <td>...</td>\n",
              "      <td>...</td>\n",
              "    </tr>\n",
              "    <tr>\n",
              "      <th>275</th>\n",
              "      <td>Xerez Club Deportivo</td>\n",
              "      <td>2</td>\n",
              "    </tr>\n",
              "    <tr>\n",
              "      <th>134</th>\n",
              "      <td>Zagłębie Lubin</td>\n",
              "      <td>24</td>\n",
              "    </tr>\n",
              "    <tr>\n",
              "      <th>233</th>\n",
              "      <td>Zawisza Bydgoszcz</td>\n",
              "      <td>6</td>\n",
              "    </tr>\n",
              "    <tr>\n",
              "      <th>171</th>\n",
              "      <td>Évian Thonon Gaillard FC</td>\n",
              "      <td>16</td>\n",
              "    </tr>\n",
              "    <tr>\n",
              "      <th>97</th>\n",
              "      <td>Śląsk Wrocław</td>\n",
              "      <td>30</td>\n",
              "    </tr>\n",
              "  </tbody>\n",
              "</table>\n",
              "<p>296 rows × 2 columns</p>\n",
              "</div>"
            ],
            "text/plain": [
              "                    Team_Name  Win_Sum_Away\n",
              "207      1. FC Kaiserslautern             9\n",
              "108                1. FC Köln            28\n",
              "156            1. FC Nürnberg            19\n",
              "86            1. FSV Mainz 05            33\n",
              "232                AC Ajaccio             6\n",
              "..                        ...           ...\n",
              "275      Xerez Club Deportivo             2\n",
              "134            Zagłębie Lubin            24\n",
              "233         Zawisza Bydgoszcz             6\n",
              "171  Évian Thonon Gaillard FC            16\n",
              "97              Śląsk Wrocław            30\n",
              "\n",
              "[296 rows x 2 columns]"
            ]
          },
          "metadata": {
            "tags": []
          },
          "execution_count": 74
        }
      ]
    },
    {
      "cell_type": "code",
      "metadata": {
        "id": "-vVf1pf8VUK3",
        "colab_type": "code",
        "colab": {
          "base_uri": "https://localhost:8080/",
          "height": 450
        },
        "outputId": "a5956ff9-9f2f-4386-b564-27fc6c46e163"
      },
      "source": [
        "# UNINDO OS DOIS DATAFRAMES PARA COMPARAR OS RESULTADOS PELO NOME DO TIME\n",
        "\n",
        "dt_comparativo = dt_home.set_index('Team_Name').join(dt_away.set_index('Team_Name'))\n",
        "dt_comparativo"
      ],
      "execution_count": 75,
      "outputs": [
        {
          "output_type": "execute_result",
          "data": {
            "text/html": [
              "<div>\n",
              "<style scoped>\n",
              "    .dataframe tbody tr th:only-of-type {\n",
              "        vertical-align: middle;\n",
              "    }\n",
              "\n",
              "    .dataframe tbody tr th {\n",
              "        vertical-align: top;\n",
              "    }\n",
              "\n",
              "    .dataframe thead th {\n",
              "        text-align: right;\n",
              "    }\n",
              "</style>\n",
              "<table border=\"1\" class=\"dataframe\">\n",
              "  <thead>\n",
              "    <tr style=\"text-align: right;\">\n",
              "      <th></th>\n",
              "      <th>Win_Sum_Home</th>\n",
              "      <th>Win_Sum_Away</th>\n",
              "    </tr>\n",
              "    <tr>\n",
              "      <th>Team_Name</th>\n",
              "      <th></th>\n",
              "      <th></th>\n",
              "    </tr>\n",
              "  </thead>\n",
              "  <tbody>\n",
              "    <tr>\n",
              "      <th>FC Barcelona</th>\n",
              "      <td>131</td>\n",
              "      <td>103</td>\n",
              "    </tr>\n",
              "    <tr>\n",
              "      <th>Real Madrid CF</th>\n",
              "      <td>129</td>\n",
              "      <td>99</td>\n",
              "    </tr>\n",
              "    <tr>\n",
              "      <th>Celtic</th>\n",
              "      <td>120</td>\n",
              "      <td>98</td>\n",
              "    </tr>\n",
              "    <tr>\n",
              "      <th>Manchester United</th>\n",
              "      <td>116</td>\n",
              "      <td>76</td>\n",
              "    </tr>\n",
              "    <tr>\n",
              "      <th>Manchester City</th>\n",
              "      <td>113</td>\n",
              "      <td>62</td>\n",
              "    </tr>\n",
              "    <tr>\n",
              "      <th>...</th>\n",
              "      <td>...</td>\n",
              "      <td>...</td>\n",
              "    </tr>\n",
              "    <tr>\n",
              "      <th>SV Darmstadt 98</th>\n",
              "      <td>2</td>\n",
              "      <td>7</td>\n",
              "    </tr>\n",
              "    <tr>\n",
              "      <th>DSC Arminia Bielefeld</th>\n",
              "      <td>2</td>\n",
              "      <td>2</td>\n",
              "    </tr>\n",
              "    <tr>\n",
              "      <th>AC Arles-Avignon</th>\n",
              "      <td>2</td>\n",
              "      <td>1</td>\n",
              "    </tr>\n",
              "    <tr>\n",
              "      <th>Córdoba CF</th>\n",
              "      <td>1</td>\n",
              "      <td>2</td>\n",
              "    </tr>\n",
              "    <tr>\n",
              "      <th>Dunfermline Athletic</th>\n",
              "      <td>1</td>\n",
              "      <td>4</td>\n",
              "    </tr>\n",
              "  </tbody>\n",
              "</table>\n",
              "<p>295 rows × 2 columns</p>\n",
              "</div>"
            ],
            "text/plain": [
              "                       Win_Sum_Home  Win_Sum_Away\n",
              "Team_Name                                        \n",
              "FC Barcelona                    131           103\n",
              "Real Madrid CF                  129            99\n",
              "Celtic                          120            98\n",
              "Manchester United               116            76\n",
              "Manchester City                 113            62\n",
              "...                             ...           ...\n",
              "SV Darmstadt 98                   2             7\n",
              "DSC Arminia Bielefeld             2             2\n",
              "AC Arles-Avignon                  2             1\n",
              "Córdoba CF                        1             2\n",
              "Dunfermline Athletic              1             4\n",
              "\n",
              "[295 rows x 2 columns]"
            ]
          },
          "metadata": {
            "tags": []
          },
          "execution_count": 75
        }
      ]
    },
    {
      "cell_type": "code",
      "metadata": {
        "id": "707y0jIqyKXP",
        "colab_type": "code",
        "colab": {
          "base_uri": "https://localhost:8080/",
          "height": 419
        },
        "outputId": "eea5011b-eb27-43ff-aefd-c6c423ac651e"
      },
      "source": [
        "dt_comparativo.reset_index()"
      ],
      "execution_count": 87,
      "outputs": [
        {
          "output_type": "execute_result",
          "data": {
            "text/html": [
              "<div>\n",
              "<style scoped>\n",
              "    .dataframe tbody tr th:only-of-type {\n",
              "        vertical-align: middle;\n",
              "    }\n",
              "\n",
              "    .dataframe tbody tr th {\n",
              "        vertical-align: top;\n",
              "    }\n",
              "\n",
              "    .dataframe thead th {\n",
              "        text-align: right;\n",
              "    }\n",
              "</style>\n",
              "<table border=\"1\" class=\"dataframe\">\n",
              "  <thead>\n",
              "    <tr style=\"text-align: right;\">\n",
              "      <th></th>\n",
              "      <th>Team_Name</th>\n",
              "      <th>Win_Sum_Home</th>\n",
              "      <th>Win_Sum_Away</th>\n",
              "    </tr>\n",
              "  </thead>\n",
              "  <tbody>\n",
              "    <tr>\n",
              "      <th>0</th>\n",
              "      <td>FC Barcelona</td>\n",
              "      <td>131</td>\n",
              "      <td>103</td>\n",
              "    </tr>\n",
              "    <tr>\n",
              "      <th>1</th>\n",
              "      <td>Real Madrid CF</td>\n",
              "      <td>129</td>\n",
              "      <td>99</td>\n",
              "    </tr>\n",
              "    <tr>\n",
              "      <th>2</th>\n",
              "      <td>Celtic</td>\n",
              "      <td>120</td>\n",
              "      <td>98</td>\n",
              "    </tr>\n",
              "    <tr>\n",
              "      <th>3</th>\n",
              "      <td>Manchester United</td>\n",
              "      <td>116</td>\n",
              "      <td>76</td>\n",
              "    </tr>\n",
              "    <tr>\n",
              "      <th>4</th>\n",
              "      <td>Manchester City</td>\n",
              "      <td>113</td>\n",
              "      <td>62</td>\n",
              "    </tr>\n",
              "    <tr>\n",
              "      <th>...</th>\n",
              "      <td>...</td>\n",
              "      <td>...</td>\n",
              "      <td>...</td>\n",
              "    </tr>\n",
              "    <tr>\n",
              "      <th>290</th>\n",
              "      <td>SV Darmstadt 98</td>\n",
              "      <td>2</td>\n",
              "      <td>7</td>\n",
              "    </tr>\n",
              "    <tr>\n",
              "      <th>291</th>\n",
              "      <td>DSC Arminia Bielefeld</td>\n",
              "      <td>2</td>\n",
              "      <td>2</td>\n",
              "    </tr>\n",
              "    <tr>\n",
              "      <th>292</th>\n",
              "      <td>AC Arles-Avignon</td>\n",
              "      <td>2</td>\n",
              "      <td>1</td>\n",
              "    </tr>\n",
              "    <tr>\n",
              "      <th>293</th>\n",
              "      <td>Córdoba CF</td>\n",
              "      <td>1</td>\n",
              "      <td>2</td>\n",
              "    </tr>\n",
              "    <tr>\n",
              "      <th>294</th>\n",
              "      <td>Dunfermline Athletic</td>\n",
              "      <td>1</td>\n",
              "      <td>4</td>\n",
              "    </tr>\n",
              "  </tbody>\n",
              "</table>\n",
              "<p>295 rows × 3 columns</p>\n",
              "</div>"
            ],
            "text/plain": [
              "                 Team_Name  Win_Sum_Home  Win_Sum_Away\n",
              "0             FC Barcelona           131           103\n",
              "1           Real Madrid CF           129            99\n",
              "2                   Celtic           120            98\n",
              "3        Manchester United           116            76\n",
              "4          Manchester City           113            62\n",
              "..                     ...           ...           ...\n",
              "290        SV Darmstadt 98             2             7\n",
              "291  DSC Arminia Bielefeld             2             2\n",
              "292       AC Arles-Avignon             2             1\n",
              "293             Córdoba CF             1             2\n",
              "294   Dunfermline Athletic             1             4\n",
              "\n",
              "[295 rows x 3 columns]"
            ]
          },
          "metadata": {
            "tags": []
          },
          "execution_count": 87
        }
      ]
    },
    {
      "cell_type": "code",
      "metadata": {
        "id": "TNhvsiePVUxC",
        "colab_type": "code",
        "colab": {
          "base_uri": "https://localhost:8080/",
          "height": 450
        },
        "outputId": "e04a0582-86d2-4b26-d28a-9a5c04b57c9d"
      },
      "source": [
        "# ORGANIZANDO EM ORDEM ALFABÉTICA\n",
        "dt_comparativo.sort_values('Team_Name')\n"
      ],
      "execution_count": 197,
      "outputs": [
        {
          "output_type": "execute_result",
          "data": {
            "text/html": [
              "<div>\n",
              "<style scoped>\n",
              "    .dataframe tbody tr th:only-of-type {\n",
              "        vertical-align: middle;\n",
              "    }\n",
              "\n",
              "    .dataframe tbody tr th {\n",
              "        vertical-align: top;\n",
              "    }\n",
              "\n",
              "    .dataframe thead th {\n",
              "        text-align: right;\n",
              "    }\n",
              "</style>\n",
              "<table border=\"1\" class=\"dataframe\">\n",
              "  <thead>\n",
              "    <tr style=\"text-align: right;\">\n",
              "      <th></th>\n",
              "      <th>Win_Sum_Home</th>\n",
              "      <th>Win_Sum_Away</th>\n",
              "    </tr>\n",
              "    <tr>\n",
              "      <th>Team_Name</th>\n",
              "      <th></th>\n",
              "      <th></th>\n",
              "    </tr>\n",
              "  </thead>\n",
              "  <tbody>\n",
              "    <tr>\n",
              "      <th>1. FC Kaiserslautern</th>\n",
              "      <td>8</td>\n",
              "      <td>9</td>\n",
              "    </tr>\n",
              "    <tr>\n",
              "      <th>1. FC Köln</th>\n",
              "      <td>32</td>\n",
              "      <td>28</td>\n",
              "    </tr>\n",
              "    <tr>\n",
              "      <th>1. FC Nürnberg</th>\n",
              "      <td>30</td>\n",
              "      <td>19</td>\n",
              "    </tr>\n",
              "    <tr>\n",
              "      <th>1. FSV Mainz 05</th>\n",
              "      <td>55</td>\n",
              "      <td>33</td>\n",
              "    </tr>\n",
              "    <tr>\n",
              "      <th>AC Ajaccio</th>\n",
              "      <td>16</td>\n",
              "      <td>6</td>\n",
              "    </tr>\n",
              "    <tr>\n",
              "      <th>...</th>\n",
              "      <td>...</td>\n",
              "      <td>...</td>\n",
              "    </tr>\n",
              "    <tr>\n",
              "      <th>Xerez Club Deportivo</th>\n",
              "      <td>6</td>\n",
              "      <td>2</td>\n",
              "    </tr>\n",
              "    <tr>\n",
              "      <th>Zagłębie Lubin</th>\n",
              "      <td>35</td>\n",
              "      <td>24</td>\n",
              "    </tr>\n",
              "    <tr>\n",
              "      <th>Zawisza Bydgoszcz</th>\n",
              "      <td>13</td>\n",
              "      <td>6</td>\n",
              "    </tr>\n",
              "    <tr>\n",
              "      <th>Évian Thonon Gaillard FC</th>\n",
              "      <td>29</td>\n",
              "      <td>16</td>\n",
              "    </tr>\n",
              "    <tr>\n",
              "      <th>Śląsk Wrocław</th>\n",
              "      <td>59</td>\n",
              "      <td>30</td>\n",
              "    </tr>\n",
              "  </tbody>\n",
              "</table>\n",
              "<p>295 rows × 2 columns</p>\n",
              "</div>"
            ],
            "text/plain": [
              "                          Win_Sum_Home  Win_Sum_Away\n",
              "Team_Name                                           \n",
              "1. FC Kaiserslautern                 8             9\n",
              "1. FC Köln                          32            28\n",
              "1. FC Nürnberg                      30            19\n",
              "1. FSV Mainz 05                     55            33\n",
              "AC Ajaccio                          16             6\n",
              "...                                ...           ...\n",
              "Xerez Club Deportivo                 6             2\n",
              "Zagłębie Lubin                      35            24\n",
              "Zawisza Bydgoszcz                   13             6\n",
              "Évian Thonon Gaillard FC            29            16\n",
              "Śląsk Wrocław                       59            30\n",
              "\n",
              "[295 rows x 2 columns]"
            ]
          },
          "metadata": {
            "tags": []
          },
          "execution_count": 197
        }
      ]
    },
    {
      "cell_type": "markdown",
      "metadata": {
        "id": "Ir6os2BD1Qnv",
        "colab_type": "text"
      },
      "source": [
        "Análise do comparativo"
      ]
    },
    {
      "cell_type": "code",
      "metadata": {
        "id": "AEDs6yWnhcdX",
        "colab_type": "code",
        "colab": {
          "base_uri": "https://localhost:8080/",
          "height": 313
        },
        "outputId": "7b9ec934-f445-4272-d81a-84879151c71f"
      },
      "source": [
        "# VISUALIZAÇÕES DO COMPARATIVO DE PARTIDAS VENCIDAS EM CASA E FORA \n",
        "\n",
        "plt.figure(figsize=(12, 9))\n",
        "dt_comparativo[['Win_Sum_Home', 'Win_Sum_Away']].plot()\n",
        "plt.title('Somatório de Jogos Vencidos - Em Casa x Fora de Casa', color='white')\n",
        "plt.show()"
      ],
      "execution_count": 198,
      "outputs": [
        {
          "output_type": "display_data",
          "data": {
            "text/plain": [
              "<Figure size 864x648 with 0 Axes>"
            ]
          },
          "metadata": {
            "tags": []
          }
        },
        {
          "output_type": "display_data",
          "data": {
            "image/png": "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\n",
            "text/plain": [
              "<Figure size 432x288 with 1 Axes>"
            ]
          },
          "metadata": {
            "tags": [],
            "needs_background": "light"
          }
        }
      ]
    },
    {
      "cell_type": "code",
      "metadata": {
        "id": "fXV6AMuCu7tt",
        "colab_type": "code",
        "colab": {
          "base_uri": "https://localhost:8080/",
          "height": 568
        },
        "outputId": "50dec4ed-ef0c-4862-829e-dc7281f6165d"
      },
      "source": [
        "plt.figure(figsize=(12, 9))\n",
        "plt.hist(dt_comparativo['Win_Sum_Home'], bins=20, alpha=0.5, color='Purple', label='Win Home')\n",
        "plt.hist(dt_comparativo['Win_Sum_Away'], bins=20, alpha=0.5, color='yellow', label='Win Away')\n",
        "plt.xlabel('Somatório Jogos Ganhos')\n",
        "plt.ylabel('Quantidade de Times que Venceram X Números de Jogos')\n",
        "plt.title('Quantidade de Jogos Vencidos - Em Casa x Fora de Casa', color='white')\n",
        "plt.legend()\n",
        "plt.show()"
      ],
      "execution_count": 199,
      "outputs": [
        {
          "output_type": "display_data",
          "data": {
            "image/png": "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\n",
            "text/plain": [
              "<Figure size 864x648 with 1 Axes>"
            ]
          },
          "metadata": {
            "tags": [],
            "needs_background": "light"
          }
        }
      ]
    },
    {
      "cell_type": "code",
      "metadata": {
        "id": "AupLzLxIqq4Z",
        "colab_type": "code",
        "colab": {
          "base_uri": "https://localhost:8080/",
          "height": 537
        },
        "outputId": "ced0c47e-77b7-41a8-b577-88df8ec8e97d"
      },
      "source": [
        "# HISTOGRAMA DE COMPARAÇÃO\n",
        "\n",
        "\n",
        "plt.figure(figsize=(12, 9))\n",
        "\n",
        "import seaborn as sns\n",
        "\n",
        "plt.style.use('seaborn-deep')\n",
        "\n",
        "Win_Sum_Home = np.random.normal(1, 2, 5000)\n",
        "Win_Sum_Away = np.random.normal(-1, 3, 2000)\n",
        "bins = np.linspace(-10, 10, 30)\n",
        "\n",
        "plt.hist([Win_Sum_Home, Win_Sum_Away], bins, label=['Win_Sum_Home', 'Win_Sum_Away'])\n",
        "plt.legend(loc='upper right')\n",
        "plt.show()"
      ],
      "execution_count": 200,
      "outputs": [
        {
          "output_type": "display_data",
          "data": {
            "image/png": "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\n",
            "text/plain": [
              "<Figure size 864x648 with 1 Axes>"
            ]
          },
          "metadata": {
            "tags": [],
            "needs_background": "light"
          }
        }
      ]
    },
    {
      "cell_type": "code",
      "metadata": {
        "id": "NKvMAt1W1XHL",
        "colab_type": "code",
        "colab": {
          "base_uri": "https://localhost:8080/",
          "height": 111
        },
        "outputId": "729341e3-f629-444b-b0b1-b1bd877b5f7f"
      },
      "source": [
        "# VERIFICANDO INFORMAÇÕES DO COMPARATIVO\n",
        "\n",
        "dt_comparativo.describe().T"
      ],
      "execution_count": 201,
      "outputs": [
        {
          "output_type": "execute_result",
          "data": {
            "text/html": [
              "<div>\n",
              "<style scoped>\n",
              "    .dataframe tbody tr th:only-of-type {\n",
              "        vertical-align: middle;\n",
              "    }\n",
              "\n",
              "    .dataframe tbody tr th {\n",
              "        vertical-align: top;\n",
              "    }\n",
              "\n",
              "    .dataframe thead th {\n",
              "        text-align: right;\n",
              "    }\n",
              "</style>\n",
              "<table border=\"1\" class=\"dataframe\">\n",
              "  <thead>\n",
              "    <tr style=\"text-align: right;\">\n",
              "      <th></th>\n",
              "      <th>count</th>\n",
              "      <th>mean</th>\n",
              "      <th>std</th>\n",
              "      <th>min</th>\n",
              "      <th>25%</th>\n",
              "      <th>50%</th>\n",
              "      <th>75%</th>\n",
              "      <th>max</th>\n",
              "    </tr>\n",
              "  </thead>\n",
              "  <tbody>\n",
              "    <tr>\n",
              "      <th>Win_Sum_Home</th>\n",
              "      <td>295.0</td>\n",
              "      <td>40.396610</td>\n",
              "      <td>30.631372</td>\n",
              "      <td>1.0</td>\n",
              "      <td>13.0</td>\n",
              "      <td>35.0</td>\n",
              "      <td>62.0</td>\n",
              "      <td>131.0</td>\n",
              "    </tr>\n",
              "    <tr>\n",
              "      <th>Win_Sum_Away</th>\n",
              "      <td>295.0</td>\n",
              "      <td>25.294915</td>\n",
              "      <td>21.756486</td>\n",
              "      <td>1.0</td>\n",
              "      <td>7.0</td>\n",
              "      <td>20.0</td>\n",
              "      <td>38.0</td>\n",
              "      <td>103.0</td>\n",
              "    </tr>\n",
              "  </tbody>\n",
              "</table>\n",
              "</div>"
            ],
            "text/plain": [
              "              count       mean        std  min   25%   50%   75%    max\n",
              "Win_Sum_Home  295.0  40.396610  30.631372  1.0  13.0  35.0  62.0  131.0\n",
              "Win_Sum_Away  295.0  25.294915  21.756486  1.0   7.0  20.0  38.0  103.0"
            ]
          },
          "metadata": {
            "tags": []
          },
          "execution_count": 201
        }
      ]
    },
    {
      "cell_type": "code",
      "metadata": {
        "id": "8G9hLtBD4GzI",
        "colab_type": "code",
        "colab": {
          "base_uri": "https://localhost:8080/",
          "height": 266
        },
        "outputId": "453144fc-a0b1-4609-b780-dd5a793d758a"
      },
      "source": [
        "# TRAÇANDO UM BOXPLOT DO COMPARATIVO \n",
        "\n",
        "dt_comparativo[['Win_Sum_Home', 'Win_Sum_Away']].boxplot();"
      ],
      "execution_count": 202,
      "outputs": [
        {
          "output_type": "display_data",
          "data": {
            "image/png": "iVBORw0KGgoAAAANSUhEUgAAAXcAAAD5CAYAAADcDXXiAAAABHNCSVQICAgIfAhkiAAAAAlwSFlzAAALEgAACxIB0t1+/AAAADh0RVh0U29mdHdhcmUAbWF0cGxvdGxpYiB2ZXJzaW9uMy4yLjIsIGh0dHA6Ly9tYXRwbG90bGliLm9yZy+WH4yJAAATb0lEQVR4nO3dfZBddX3H8ffXPPAglfDUHUywyVTGJgTkYYfKQ53F6BQQTLSUskM1SmqmM4Sq0BEwTrGjGbE2Uo3VmZRFQssEUIQQiw9M3KsEJBWUEkiKpjxIKAStoC5QQsK3f9wTsyYbsvdpd/PL+zWzk3t/5/zO+ebml8+e+7vn3BOZiSSpLK8Z7QIkSe1nuEtSgQx3SSqQ4S5JBTLcJalA40e7AIBDDz00p06dOtplFOP555/nta997WiXIe3Esdle99133y8y87Chlo2JcJ86dSr33nvvaJdRjFqtRk9Pz2iXIe3EsdleEfH4rpY5LSNJBTLcJalAhrskFchwl6QCGe6SVCDDXZIKZLhLUoEMd0kq0Ji4iEnNiYiG+/j9/dLewSP3PVhmDvlz1sW37nKZpL2D4S5JBTLcJalAhrskFchwl6QCGe6SVCDDXZIKZLhLUoEMd0kqkOEuSQUy3CWpQIa7JBXIcJekAu023CPimoh4JiIeHNT22Yj4r4h4ICJuiYhJg5ZdHhEbIuLhiPjTThUuSdq14Ry5XwucvkPbHcDMzDwG+AlwOUBEzADOA46q+nwpIsa1rVpJ0rDsNtwz8/vAL3do+05mbqme3gNMqR7PBm7IzJcy81FgA3BiG+uVJA1DO27WcQFwY/V4MvWw32Zj1baTiJgPzAfo6uqiVqu1oRRt4+upsWhgYMCxOUJaCveIWAhsAa5vtG9mLgWWAnR3d2dPT08rpWiQxStX4OupsahWqzk2R0jT4R4R7wfOAmbl9lv8PAkcMWi1KVWbJGkENXUqZEScDnwUeFdmvjBo0W3AeRGxT0RMA44E/qP1MiVJjdjtkXtELAd6gEMjYiNwBfWzY/YB7qhu0nxPZv51Zj4UETcB66hP11yYmVs7VbwkaWi7DffM7B2iue9V1l8ELGqlKElSa7xCVZIKZLhLUoEMd0kqkOEuSQUy3CWpQIa7JBXIcJekAhnuklQgw12SCmS4S1KBDHdJKpDhLkkFMtwlqUCGuyQVyHCXpAIZ7pJUIMNdkgpkuEvquOXLlzNz5kxmzZrFzJkzWb58+WiXVLzd3mZPklqxfPlyFi5cSF9fH1u3bmXcuHHMmzcPgN7eoe7iqXbwyF1SRy1atIi+vj5OO+00xo8fz2mnnUZfXx+LFnmr5U4y3CV11Pr16zn11FN/p+3UU09l/fr1o1TR3mG34R4R10TEMxHx4KC2gyPijoj4afXnQVV7RMQXImJDRDwQEcd3snhJY9/06dNZvXr177StXr2a6dOnj1JFe4fhHLlfC5y+Q9tlwKrMPBJYVT0HOAM4svqZD3y5PWVK2lMtXLiQefPm0d/fz5YtW+jv72fevHksXLhwtEsr2m4/UM3M70fE1B2aZwM91eNlQA24tGq/LjMTuCciJkXE4Zn5VLsKlrRn6e3t5e677+aMM87gpZdeYp999uGDH/ygH6Z2WLNny3QNCuynga7q8WTgiUHrbazadgr3iJhP/eierq4uarVak6VoKL6eGitWrVrFzTffzKc//WmmTZvGo48+ymc/+1kmTZrErFmzRru8YrV8KmRmZkRkE/2WAksBuru7s6enp9VSVFm8cgW+nhorFixYwAUXXEBfXx/r169n+vTpXHDBBdxyyy188pOfHO3yitVsuG/aNt0SEYcDz1TtTwJHDFpvStUmaS+1bt06XnjhhZ3Oc3/sscdGu7SiNXsq5G3A3OrxXGDFoPb3VWfNvAX4lfPt0t5t4sSJLFiw4HfOc1+wYAETJ04c7dKKttsj94hYTv3D00MjYiNwBXAlcFNEzAMeB86tVr8dOBPYALwAfKADNUvag2zevJklS5Zw3HHHsXXrVvr7+1myZAmbN28e7dKKNpyzZXb1kfZOn4RUZ8lc2GpRksoxY8YM5syZw0UXXfTbOffzzz+fW2+9dbRLK5rfLSOpoxYuXDjkd8v49QOdZbhL6qht57MPPnJftGiR57l3mOEuqeN6e3vp7e2lVqt5mu4I8YvDJKlAhrskFchwl6QCGe6SVCDDXZIKZLhLUoEMd0kqkOEuSQUy3CWpQIa7JBXIcJekAhnuklQgw12SCmS4S1KBDHdJKpDhLkkF8mYdktouIprqV78Ns9rBI3dJbZeZQ/6cdfGtu1xmsLeX4S5JBWop3CPiIxHxUEQ8GBHLI2LfiJgWEWsiYkNE3BgRE9tVrCRpeJoO94iYDPwN0J2ZM4FxwHnAZ4CrMvONwLPAvHYUKkkavlanZcYD+0XEeGB/4CngbcDXquXLgDkt7kOS1KCmz5bJzCcj4h+BnwEvAt8B7gOey8wt1WobgclD9Y+I+cB8gK6uLmq1WrOlaAi+nhqrHJsjo+lwj4iDgNnANOA54KvA6cPtn5lLgaUA3d3d2dPT02wp2sHilSvw9dRY5NgcOa1My7wdeDQzf56ZLwNfB04BJlXTNABTgCdbrFGS1KBWwv1nwFsiYv+oX7EwC1gH9APnVOvMBVa0VqIkqVFNh3tmrqH+wemPgLXVtpYClwIXR8QG4BCgrw11SpIa0NLXD2TmFcAVOzQ/ApzYynYlSa3xClVJKpDhLkkFMtwlqUCGuyQVyHCXpAIZ7pJUIMNdkgpkuEtSgQx3SSqQ4S5JBTLcJalAhrskFchwl6QCGe6SVCDDXZIKZLhLUoEMd0kqkOEuSQUy3CWpQIa7JBXIcJekAo1vpXNETAKuBmYCCVwAPAzcCEwFHgPOzcxnW6pyL9b78dsZePHlhvudfcmKYa97wH4TWP6pMxveh6Sxq6VwBz4PfCszz4mIicD+wMeAVZl5ZURcBlwGXNrifvZaAy++zMrFsxvqU6vV6OnpGfb6jfwikLRnaHpaJiIOBN4K9AFk5ubMfA6YDSyrVlsGzGm1SElSY1o5cp8G/Bz4SkS8GbgP+BDQlZlPVes8DXQN1Tki5gPzAbq6uqjVai2UUrZGX5uBgYGG+/j6a6Q41kZGK+E+HjgeuCgz10TE56lPwfxWZmZE5FCdM3MpsBSgu7s7G5lG2JssXrmioSkWaHxappl9SM1wrI2cVs6W2QhszMw11fOvUQ/7TRFxOED15zOtlShJalTT4Z6ZTwNPRMSbqqZZwDrgNmBu1TYX8NM6SRphrZ4tcxFwfXWmzCPAB6j/wrgpIuYBjwPntrgPSVKDWgr3zLwf6B5i0axWtitJao1XqEpSgQx3SSqQ4S5JBTLcJalAhrskFchwl6QCGe6SVCDDXZIKZLhLUoEMd0kqkOEuSQUy3CWpQIa7JBXIcJekAhnuklQgw12SCmS4S1KBDHdJKpDhLkkFMtwlqUCGuyQVqOVwj4hxEfHjiPhG9XxaRKyJiA0RcWNETGy9TElSI9px5P4hYP2g558BrsrMNwLPAvPasA9JUgNaCveImAK8E7i6eh7A24CvVassA+a0sg9JUuNaPXL/J+CjwCvV80OA5zJzS/V8IzC5xX1Ikho0vtmOEXEW8Exm3hcRPU30nw/MB+jq6qJWqzVbSvEafW0GBgYa7uPrr5HiWBsZTYc7cArwrog4E9gXeB3weWBSRIyvjt6nAE8O1TkzlwJLAbq7u7Onp6eFUsq1eOUKGn1tarVaQ32a2YfUDMfayGl6WiYzL8/MKZk5FTgP+G5mng/0A+dUq80FVrRcpSSpIa0cue/KpcANEfEp4MdAXwf2IWkM6P347Qy8+HJDfc6+pLHjvQP2m8DyT53ZUB+1KdwzswbUqsePACe2Y7uSxraBF19m5eLZw16/0SlDaPyXgeq8QlWSCmS4S1KBOjHnrja6bMN13DX7uob6TADuumrJ8PcBwPDfWksa+wz3Me7KN76voTlNaHxe8+xLVrCywbokjW1Oy0hSgQx3SSqQ4S5JBTLcJalAhrskFchwl6QCGe6SVCDDXZIKZLhLUoEMd0kqkOEuSQUy3CWpQIa7JBXIcJekAhnuklQgw12SCmS4S1KBDHdJKlDT4R4RR0REf0Ssi4iHIuJDVfvBEXFHRPy0+vOg9pUrSRqOVo7ctwCXZOYM4C3AhRExg/r9lldl5pHAKrbdf1mSNGKaDvfMfCozf1Q9/g2wHpgMzAaWVastA+a0WqQkqTHj27GRiJgKHAesAboy86lq0dNA1y76zAfmA3R1dVGr1dpRSpEafW0GBgYa7uPrr2ZctuE67pp93bDXnwDcddWSxvYB1GoHNlaYIDNb+gEOAO4D3lM9f26H5c/ubhsnnHBCamhnXXxrw336+/s7vg8ps/Gx0+jYbGYfexPg3txFrrZ0tkxETABuBq7PzK9XzZsi4vBq+eHAM63sQ5LUuFbOlgmgD1ifmZ8btOg2YG71eC6wovnyJEnNaGXO/RTgvcDaiLi/avsYcCVwU0TMAx4Hzm2tRElSo5oO98xcDcQuFs9qdruSpNZ5haokFchwl6QCGe6SVCDDXZIKZLhLUoHa8vUD6qyzL2n8UoHFK4ff54D9JjS8fUljm+E+xq1cPLvhPmdfsqKpfpLK4bSMJBXIcJekAhnuklQgw12SCmS4S1KBDHdJKpDhLkkF8jx3SS1p9CK7Ri6wAy+ya5bhLqlpjV4s5wV2I8dpGUkqkOEuSQUy3CWpQIa7JBXIcJekAnUs3CPi9Ih4OCI2RMRlndqPJGlnHQn3iBgH/DNwBjAD6I2IGZ3YlyRpZ506z/1EYENmPgIQETcAs4F1HdrfXikidr3sc0O3Z2aHqpG2a2ZsguOznTo1LTMZeGLQ841Vm9ooM4f86e/v3+UyaSQ0MzYdn+01aleoRsR8YD5AV1cXtVpttEopzsDAgK+nxiTH5sjpVLg/CRwx6PmUqu23MnMpsBSgu7s7e3p6OlTK3qdWq+HrqbHIsTlyOjUt80PgyIiYFhETgfOA2zq0L0nSDjpy5J6ZWyJiAfBtYBxwTWY+1Il9SZJ21rE598y8Hbi9U9uXJO2aV6hKUoEMd0kqkOEuSQWKsXDhQET8HHh8tOsoyKHAL0a7CGkIjs32+oPMPGyoBWMi3NVeEXFvZnaPdh3SjhybI8dpGUkqkOEuSQUy3Mu0dLQLkHbBsTlCnHOXpAJ55C5JBTLcJalAhrskFchwb0JEXBURHx70/NsRcfWg54sj4u+auTF4RLwmIr4QEQ9GxNqI+GFETGtX7UPs77GIOHTQ856I+Ean9qeRUdIYrfZ5bERkRJzeyf2UxHBvzl3AyVAf6NSvujtq0PKTge9k5pVNbPsvgNcDx2Tm0cC7gedaK1d7odLGaC+wuvpTw2C4N+du4KTq8VHAg8BvIuKgiNgHmA4cExFfBIiIa6sjnbsj4pGIOOdVtn048FRmvgKQmRsz89lqOwPbVoqIcyLi2kHb/3JE3FNtvyciromI9dvWaUZEHBwRt0bEA9W2j6naPxERyyLizoh4PCLeExH/UB3FfSsiJlTrnRAR34uI+6ojx8ObrUUNK2aMRv1u238OvB94R0TsW7WvjYhJUfe/EfG+qv26iHhHREytxuiPqp+TBy2fM2j710fE7OG8qHsSw70Jmfk/wJaIeAP1I6AfAGuo/2fqBtYCm3fodjhwKnAW8GpHSzcBZ0fE/dVb5+OGWdZB1f4/Qv2uV1dR/099dEQcu5u+/dX+7geuHtT+98CPM/MY4GPAdYOW/SHwNuBdwL8B/dVR3IvAO6uAXwKck5knANcAi4b5d1GLChujJwOPZuZ/AzXgnVX7XcAp1TYeAf6kaj+J+i+3Z4B3ZObx1N9tfKFa3kf9FwURcWC1/X8f5t9hj2G4N+9u6oNi23+cHwx6ftcQ69+ama9k5jqga1cbzcyNwJuAy4FXgFURMWsY9azM+kULa4FNmbm2OrJ6CJi6m76nZeaxmXks8FeD2k8F/rWq67vAIRHxumrZNzPz5Wp/44BvVe1rq/29CZgJ3FH90vg49XvpauSUMkZ7gRuqxzewfWrmTuCt1c+Xqf+SmAw8m5nPAxOAf4mItcBXgRlV/d+jfhvQw6pt3ZyZW4ZR/x6lY3di2gtsm9M8mvpb3ieAS4BfA18BDt5h/ZcGPY5X23BmvgR8E/hmRGwC5gCrgMFXnO27i+2/ssO+XqEz/84vVbW+EhEv5/ar4bbtL4CHMvOkXW1AHbfHj9GIGAf8GTA7IhZWdR0SEb8HfB+4EHgDsJD63P851EMf6u8QNgFvpn4g+3+DNn0d8JfU7+/8gVf7u+6pPHJv3t3U377+MjO3ZuYvgUlsf0vYlIg4PiJeXz1+DXAM278OeVNETK/a391S9cNzJ3B+VUsP8IvM/PUw+z4MHBYRJ1X9J0TEUbvpo/YqYYzOAh7IzCMyc2pm/gFwM/DuzHyC+gfFR2bmI9Q/cP1b6qEPcCDbPxt4L/V3mNtcC3wYoHqnUhzDvXlrqQ+se3Zo+1VmtvJ91b8PrIyIB4EHgC3AF6tllwHfoP4f86kW9jFcnwBOiIgHqM/Bzh1ux8zcTP0o6jMR8Z/A/VRnb2jElDBGe4Fbdmi7me1TM2uAn1SP7wQmUw95gC8Bc6vx90fA89s2kJmbgPXU38EUye+WkbTXiYj9qf+iOz4zfzXa9XSCR+6S9ioR8XbqR+1LSg128Mh91ETE0VRnogzyUmb+cYf2twbYZ4fm92bm2k7sT3s+x+iezXCXpAI5LSNJBTLcJalAhrskFchwl6QC/T+qwLYGhF+VEQAAAABJRU5ErkJggg==\n",
            "text/plain": [
              "<Figure size 432x288 with 1 Axes>"
            ]
          },
          "metadata": {
            "tags": [],
            "needs_background": "light"
          }
        }
      ]
    },
    {
      "cell_type": "markdown",
      "metadata": {
        "id": "F8XWnyY61a-y",
        "colab_type": "text"
      },
      "source": [
        "Separamos as amostras"
      ]
    },
    {
      "cell_type": "code",
      "metadata": {
        "id": "i7oHS2nnuK1M",
        "colab_type": "code",
        "colab": {}
      },
      "source": [
        "HOME = dt_comparativo['Win_Sum_Home']\n",
        "AWAY = dt_comparativo['Win_Sum_Away']"
      ],
      "execution_count": 203,
      "outputs": []
    },
    {
      "cell_type": "code",
      "metadata": {
        "id": "4ZgAOGfwvNjS",
        "colab_type": "code",
        "colab": {
          "base_uri": "https://localhost:8080/",
          "height": 34
        },
        "outputId": "987b70b7-5746-4559-fbe6-4317869ce3db"
      },
      "source": [
        "HOME.mean()"
      ],
      "execution_count": 204,
      "outputs": [
        {
          "output_type": "execute_result",
          "data": {
            "text/plain": [
              "40.396610169491524"
            ]
          },
          "metadata": {
            "tags": []
          },
          "execution_count": 204
        }
      ]
    },
    {
      "cell_type": "code",
      "metadata": {
        "id": "3IoBE6nhvP_W",
        "colab_type": "code",
        "colab": {
          "base_uri": "https://localhost:8080/",
          "height": 34
        },
        "outputId": "21b17fce-6b06-4972-c09e-f30dce694b99"
      },
      "source": [
        "AWAY.mean()"
      ],
      "execution_count": 205,
      "outputs": [
        {
          "output_type": "execute_result",
          "data": {
            "text/plain": [
              "25.29491525423729"
            ]
          },
          "metadata": {
            "tags": []
          },
          "execution_count": 205
        }
      ]
    },
    {
      "cell_type": "markdown",
      "metadata": {
        "colab_type": "text",
        "id": "hBaXGx50iVAp"
      },
      "source": [
        "Formulação de Hipótese\n"
      ]
    },
    {
      "cell_type": "markdown",
      "metadata": {
        "colab_type": "text",
        "id": "N9LES_3niZVv"
      },
      "source": [
        "- __H0: $\\mu_1 <= \\mu_2$,  o time ganha menos ou igual ao jogar em casa__\n",
        "- __H1: $\\mu_1 > \\mu_2$, o time ganha mais ao jogar em casa__ "
      ]
    },
    {
      "cell_type": "markdown",
      "metadata": {
        "id": "9KR8nRlvgx1B",
        "colab_type": "text"
      },
      "source": [
        "Testar a variância"
      ]
    },
    {
      "cell_type": "code",
      "metadata": {
        "id": "RNq-npfRsUt1",
        "colab_type": "code",
        "colab": {}
      },
      "source": [
        "from scipy import stats"
      ],
      "execution_count": 206,
      "outputs": []
    },
    {
      "cell_type": "code",
      "metadata": {
        "id": "qVuh9mnztij6",
        "colab_type": "code",
        "colab": {
          "base_uri": "https://localhost:8080/",
          "height": 34
        },
        "outputId": "8a603082-7f2c-4f84-9b79-0fda694e855d"
      },
      "source": [
        "stats.levene(HOME, AWAY)"
      ],
      "execution_count": 207,
      "outputs": [
        {
          "output_type": "execute_result",
          "data": {
            "text/plain": [
              "LeveneResult(statistic=40.8876084329776, pvalue=3.2885863485345943e-10)"
            ]
          },
          "metadata": {
            "tags": []
          },
          "execution_count": 207
        }
      ]
    },
    {
      "cell_type": "code",
      "metadata": {
        "id": "ane59pYxgyM1",
        "colab_type": "code",
        "colab": {
          "base_uri": "https://localhost:8080/",
          "height": 51
        },
        "outputId": "8519fdfd-d1bb-45fe-df40-28fe1cf3f9eb"
      },
      "source": [
        "stat_test, p_valor = stats.levene(HOME, AWAY)\n",
        "print(stat_test)\n",
        "print(p_valor)"
      ],
      "execution_count": 208,
      "outputs": [
        {
          "output_type": "stream",
          "text": [
            "40.8876084329776\n",
            "3.2885863485345943e-10\n"
          ],
          "name": "stdout"
        }
      ]
    },
    {
      "cell_type": "code",
      "metadata": {
        "id": "HRzIvQUji75J",
        "colab_type": "code",
        "colab": {
          "base_uri": "https://localhost:8080/",
          "height": 34
        },
        "outputId": "18805efd-8417-49d2-dad0-9d54581e16fe"
      },
      "source": [
        "# Verificamos que o p-valor (3.28e-10) está abaixo de 0.05, então as variâncias são diferentes.\n",
        "\n",
        "p_valor <= 0.05"
      ],
      "execution_count": 209,
      "outputs": [
        {
          "output_type": "execute_result",
          "data": {
            "text/plain": [
              "True"
            ]
          },
          "metadata": {
            "tags": []
          },
          "execution_count": 209
        }
      ]
    },
    {
      "cell_type": "markdown",
      "metadata": {
        "id": "PqkxqWPk2QNO",
        "colab_type": "text"
      },
      "source": [
        "Teste t com variâncias diferentes"
      ]
    },
    {
      "cell_type": "code",
      "metadata": {
        "id": "Kth0td2uhY8J",
        "colab_type": "code",
        "colab": {
          "base_uri": "https://localhost:8080/",
          "height": 51
        },
        "outputId": "c3c21d54-63c1-4546-ff51-6f5d4e5c1566"
      },
      "source": [
        "stat_test2, p_valor2 = stats.ttest_ind(HOME, AWAY, equal_var=False)\n",
        "print(stat_test2)\n",
        "print(p_valor2)"
      ],
      "execution_count": 210,
      "outputs": [
        {
          "output_type": "stream",
          "text": [
            "6.903620837563172\n",
            "1.4530723205328083e-11\n"
          ],
          "name": "stdout"
        }
      ]
    },
    {
      "cell_type": "code",
      "metadata": {
        "id": "slZqGWIskRoP",
        "colab_type": "code",
        "colab": {
          "base_uri": "https://localhost:8080/",
          "height": 34
        },
        "outputId": "031b27cb-433e-46c1-c38b-6339c8fdf23a"
      },
      "source": [
        "# Verificamos que o p-valor está abaixo de 0.05\n",
        "\n",
        "p_valor2 <= 0.05"
      ],
      "execution_count": 211,
      "outputs": [
        {
          "output_type": "execute_result",
          "data": {
            "text/plain": [
              "True"
            ]
          },
          "metadata": {
            "tags": []
          },
          "execution_count": 211
        }
      ]
    },
    {
      "cell_type": "markdown",
      "metadata": {
        "id": "Lcfge8jWjqY9",
        "colab_type": "text"
      },
      "source": [
        "Conclusão"
      ]
    },
    {
      "cell_type": "markdown",
      "metadata": {
        "id": "czhDAFc3jtMn",
        "colab_type": "text"
      },
      "source": [
        "O p-valor é aproximadamente 1.45e-11, que é bem menor que o valor de corte 0.05. Então, rejeitamos a hipótese nula de que um time ganha menos ou igual ao jogar em casa, em favor da hipótese alternativa de que o time ganha mais ao jogar em casa com um nível de confiança de 95%."
      ]
    },
    {
      "cell_type": "markdown",
      "metadata": {
        "id": "Mm0m3nTQxWre",
        "colab_type": "text"
      },
      "source": [
        "Muito obrigada, Professor Guilherme!"
      ]
    }
  ]
}
